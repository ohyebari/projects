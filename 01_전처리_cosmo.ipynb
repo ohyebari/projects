{
 "cells": [
  {
   "cell_type": "markdown",
   "metadata": {},
   "source": [
    "## Find Cross-selling opportunities - Market Basket Analysis\n",
    "#### <b> 문제인식 </b>\n",
    "- 코로나 이후 신규 모집된 고객의 Retention 차원에서 적절한 Next 제품을 제안하는 것이 중요해짐\n",
    "- 악세서리의 매출 증대 위해 JEW/ACC 기존고객에게 ACC제품으로의 cross-selling 가능성 모색 >> <b> 카테고리별 cross-selling 패턴 확인할것!! </b>"
   ]
  },
  {
   "cell_type": "markdown",
   "metadata": {
    "tags": []
   },
   "source": [
    "#### <b>고려사항</b>\n",
    "2. 고객단위 vs 영수증단위 : Two track으로 시도할것\n",
    "3. 제품별 categorization - proper level of categorization may be needed\n",
    "- 반지(JEW-CAT) groupbby : 커플링, 웨딩링 구매를 cross-sell로 보기 어려울 것 같고, cross-category를 cross-sell로 규정해야할듯 데이터로 어떻게 조작?\n",
    "5. ecom 고객과 매장 고객 cross-sell차이 (고객 프로파일링이 다를것으로 예상됨. 구분하여 분석)\n",
    "5. time-line 구분 가능 => \n",
    "6. Virtual Items(요일, 시간대, 계절, 지역, 성별, 연령대) If shopper in 20's and night then cup ramen / Membership ID(=>울회사 by VIP level) could show other behavior"
   ]
  },
  {
   "cell_type": "code",
   "execution_count": 1,
   "metadata": {},
   "outputs": [],
   "source": [
    "import numpy as np\n",
    "import pandas as pd"
   ]
  },
  {
   "cell_type": "code",
   "execution_count": 2,
   "metadata": {
    "tags": []
   },
   "outputs": [
    {
     "data": {
      "text/html": [
       "        <script type=\"text/javascript\">\n",
       "        window.PlotlyConfig = {MathJaxConfig: 'local'};\n",
       "        if (window.MathJax) {MathJax.Hub.Config({SVG: {font: \"STIX-Web\"}});}\n",
       "        if (typeof require !== 'undefined') {\n",
       "        require.undef(\"plotly\");\n",
       "        requirejs.config({\n",
       "            paths: {\n",
       "                'plotly': ['https://cdn.plot.ly/plotly-2.6.3.min']\n",
       "            }\n",
       "        });\n",
       "        require(['plotly'], function(Plotly) {\n",
       "            window._Plotly = Plotly;\n",
       "        });\n",
       "        }\n",
       "        </script>\n",
       "        "
      ]
     },
     "metadata": {},
     "output_type": "display_data"
    }
   ],
   "source": [
    "# !pip install plotly chart_studio --upgrade\n",
    "# !pip install cufflinks --upgrade\n",
    "\n",
    "import chart_studio.plotly as py #chart_studio 는 plotly 로 작성된 그래프를 웹상에서 보여주기 위한 라이브러리\n",
    "import cufflinks as cf #pandas로 그래프를 그리기 위한 기능을 plotly 와 연결시키기 위한 라이브러리\n",
    "cf.go_offline(connected=True)"
   ]
  },
  {
   "cell_type": "code",
   "execution_count": 3,
   "metadata": {
    "tags": []
   },
   "outputs": [],
   "source": [
    "import matplotlib as mpl\n",
    "from matplotlib import pyplot as plt\n",
    "\n",
    "plt.rcParams['font.family'] = 'Gulim'\n",
    "mpl.rcParams['axes.unicode_minus'] = False # 그래프에서 마이너스 폰트 깨지는 문제에 대한 대처"
   ]
  },
  {
   "cell_type": "code",
   "execution_count": 4,
   "metadata": {},
   "outputs": [],
   "source": [
    "import warnings # 경고 알림 제거\n",
    "warnings.filterwarnings(\"ignore\", category=Warning) # 경고 알림이 뜨면 모두 무시합니다.\n",
    "\n",
    "pd.set_option('display.max_columns', 3000)\n",
    "# pd.set_option('display.max_colwidth', 200)\n",
    "pd.set_option('display.max_rows', 100)\n",
    "pd.set_option('display.float_format', lambda x: '%.3f' % x) #.0f: 소수점 자리수 지정"
   ]
  },
  {
   "cell_type": "markdown",
   "metadata": {
    "tags": []
   },
   "source": [
    "### 1) sales & customer data 전처리"
   ]
  },
  {
   "cell_type": "markdown",
   "metadata": {
    "tags": []
   },
   "source": [
    "#### 1-1) customer data를 중심으로 합침\n",
    "- 2017년도에 코스모 리턴방식이 변경되었음(2017년도에는 동일 제품-시리얼-의 경우 날짜가 달라도 같은 영수증번호였음) > 이후 bw와 동일하게 시간,날짜 다를때 다른 영수증번호\n",
    "- 따라서 2017년은 bw와 미맵핑된 것이 많음. 2017년 살리기 위해 cosmo 사용\n",
    "- 단, 2017년 10월/11월음 중복값이 많아 중복값 제거하여, 수량 1개씩만 찍히는 코스모데이터에서 수량 2개 이상 팔린것(약 1억 천)이 같이 지워짐(장바구니 분석과 코호트 분석에서는 마이너 이슈라 pass)"
   ]
  },
  {
   "cell_type": "code",
   "execution_count": 5,
   "metadata": {
    "tags": []
   },
   "outputs": [
    {
     "name": "stdout",
     "output_type": "stream",
     "text": [
      "<class 'pandas.core.frame.DataFrame'>\n",
      "RangeIndex: 6170 entries, 0 to 6169\n",
      "Data columns (total 29 columns):\n",
      " #   Column                         Non-Null Count  Dtype  \n",
      "---  ------                         --------------  -----  \n",
      " 0   Sales channel(key)             6170 non-null   object \n",
      " 1   Sales channel                  6170 non-null   object \n",
      " 2   TIME-Year                      6170 non-null   int64  \n",
      " 3   TIME-Month                     6170 non-null   int64  \n",
      " 4   TIME-Date                      6170 non-null   object \n",
      " 5   SHOP-Sales Time                6170 non-null   object \n",
      " 6   PC_Profit Center(key)          6170 non-null   object \n",
      " 7   PC_Profit Center               6170 non-null   object \n",
      " 8   CUST-Country/Region            6170 non-null   object \n",
      " 9   SHOP-Sales Person(key)         6170 non-null   object \n",
      " 10  SHOP-Sales Person              6170 non-null   object \n",
      " 11  SHOP-HRVision Code             6170 non-null   object \n",
      " 12  MAT-Classification(key)        5441 non-null   object \n",
      " 13  MAT-Classification             6170 non-null   object \n",
      " 14  MAT_Business Code(key)         6170 non-null   object \n",
      " 15  MAT_Business Code              6170 non-null   object \n",
      " 16  MAT_Material(key)              6170 non-null   object \n",
      " 17  MAT_Material                   6170 non-null   object \n",
      " 18  Sales Type                     6170 non-null   object \n",
      " 19  Billing Type(key)              6170 non-null   object \n",
      " 20  Billing Type                   6170 non-null   object \n",
      " 21  TransactionType                6170 non-null   object \n",
      " 22  Sales ID                       6170 non-null   object \n",
      " 23  Sales ID BS                    6170 non-null   object \n",
      " 24  UNIT SOLD                      6170 non-null   float64\n",
      " 25  NET VALUE                      6170 non-null   float64\n",
      " 26  NET VALUE IN LOCAL CURRENCY    6170 non-null   float64\n",
      " 27  GROSS VALUE IN LOCAL CURRENCY  6169 non-null   float64\n",
      " 28  DISCOUNT IN LOCAL CURRENCY     6170 non-null   float64\n",
      "dtypes: float64(5), int64(2), object(22)\n",
      "memory usage: 1.4+ MB\n",
      "Wall time: 20.4 s\n"
     ]
    }
   ],
   "source": [
    "%%time\n",
    "# cosmo data에 매장으로 들어간 직원구매 제외시키기 위해 필요\n",
    "df = pd.read_excel(\"DOS_Sales_2021.11.17.xlsx\", sheet_name=\"ZO (2)\") \n",
    "df.info()"
   ]
  },
  {
   "cell_type": "code",
   "execution_count": 6,
   "metadata": {},
   "outputs": [
    {
     "data": {
      "text/plain": [
       "(4224, 29)"
      ]
     },
     "execution_count": 6,
     "metadata": {},
     "output_type": "execute_result"
    }
   ],
   "source": [
    "df = df[df['TIME-Year'] != 2016 ] # CRM 데이터 수집 기간과 맞춰줌 (2021.10.31일 기준)\n",
    "df = df[df['MAT_Business Code(key)'].isin(['CAR', '125', 'BAS', '111', '112', 'GFT', '220', '240', 'WAT', 'LTR', 'SLG', 'SLK', 'HOD', 'EYE', 'SRM'])] #JWA sales only\n",
    "df = df[df['PC_Profit Center(key)'] == '0450/224'] # 직원구매\n",
    "df.shape"
   ]
  },
  {
   "cell_type": "code",
   "execution_count": 7,
   "metadata": {
    "tags": []
   },
   "outputs": [
    {
     "name": "stdout",
     "output_type": "stream",
     "text": [
      "<class 'pandas.core.frame.DataFrame'>\n",
      "RangeIndex: 291748 entries, 0 to 291747\n",
      "Data columns (total 29 columns):\n",
      " #   Column                            Non-Null Count   Dtype  \n",
      "---  ------                            --------------   -----  \n",
      " 0   Main Store                        291395 non-null  object \n",
      " 1   Client Category                   290866 non-null  object \n",
      " 2   Purchase: Shop                    291748 non-null  object \n",
      " 3   COSMO ID                          291748 non-null  object \n",
      " 4   CRM ID                            291551 non-null  float64\n",
      " 5   Gender                            288004 non-null  object \n",
      " 6   Last and First Name (Local)       291629 non-null  object \n",
      " 7   One Shot                          291748 non-null  bool   \n",
      " 8   Birthdate Year                    105579 non-null  float64\n",
      " 9   Segment                           277851 non-null  object \n",
      " 10  Main Client Advisor               290381 non-null  object \n",
      " 11  Nationality                       222804 non-null  object \n",
      " 12  Marketing Authorization           291748 non-null  bool   \n",
      " 13  First Purchase Date               289623 non-null  object \n",
      " 14  Last Purchase Date General        289533 non-null  object \n",
      " 15  Transaction Type Details          291748 non-null  object \n",
      " 16  Reference Transaction Beanstore2  291748 non-null  object \n",
      " 17  SBU                               235912 non-null  object \n",
      " 18  Product Family                    235905 non-null  object \n",
      " 19  Aesthetic Motive                  235909 non-null  object \n",
      " 20  Aesthetic Line                    232264 non-null  object \n",
      " 21  Material Number (SAP Code)        291748 non-null  object \n",
      " 22  Catalog Code                      235960 non-null  object \n",
      " 23  Product Name                      291748 non-null  object \n",
      " 24  Purchase Date                     291748 non-null  object \n",
      " 25  Item Quantity                     291748 non-null  float64\n",
      " 26  Discount %                        20996 non-null   float64\n",
      " 27  Sales Amount (Purchase Currency)  289915 non-null  float64\n",
      " 28  Lifetime Value (User Currency)    291748 non-null  float64\n",
      "dtypes: bool(2), float64(6), object(21)\n",
      "memory usage: 60.7+ MB\n",
      "Wall time: 2min 43s\n"
     ]
    }
   ],
   "source": [
    "%%time\n",
    "# 고객 데이터\n",
    "df1 = pd.read_excel(\"DOS_Sales_2021.11.17.xlsx\", sheet_name=\"POWER BI Raw data (Local)\", header=10, usecols='B:AD') \n",
    "df1.info()"
   ]
  },
  {
   "cell_type": "code",
   "execution_count": 8,
   "metadata": {},
   "outputs": [
    {
     "data": {
      "text/html": [
       "<div>\n",
       "<style scoped>\n",
       "    .dataframe tbody tr th:only-of-type {\n",
       "        vertical-align: middle;\n",
       "    }\n",
       "\n",
       "    .dataframe tbody tr th {\n",
       "        vertical-align: top;\n",
       "    }\n",
       "\n",
       "    .dataframe thead th {\n",
       "        text-align: right;\n",
       "    }\n",
       "</style>\n",
       "<table border=\"1\" class=\"dataframe\">\n",
       "  <thead>\n",
       "    <tr style=\"text-align: right;\">\n",
       "      <th></th>\n",
       "      <th>Main Store</th>\n",
       "      <th>Client Category</th>\n",
       "      <th>Purchase: Shop</th>\n",
       "      <th>COSMO ID</th>\n",
       "      <th>CRM ID</th>\n",
       "      <th>Gender</th>\n",
       "      <th>Last and First Name (Local)</th>\n",
       "      <th>One Shot</th>\n",
       "      <th>Birthdate Year</th>\n",
       "      <th>Segment</th>\n",
       "      <th>Main Client Advisor</th>\n",
       "      <th>Nationality</th>\n",
       "      <th>Marketing Authorization</th>\n",
       "      <th>First Purchase Date</th>\n",
       "      <th>Last Purchase Date General</th>\n",
       "      <th>Transaction Type Details</th>\n",
       "      <th>Reference Transaction Beanstore2</th>\n",
       "      <th>SBU</th>\n",
       "      <th>Product Family</th>\n",
       "      <th>Aesthetic Motive</th>\n",
       "      <th>Aesthetic Line</th>\n",
       "      <th>Material Number (SAP Code)</th>\n",
       "      <th>Catalog Code</th>\n",
       "      <th>Product Name</th>\n",
       "      <th>Purchase Date</th>\n",
       "      <th>Item Quantity</th>\n",
       "      <th>Discount %</th>\n",
       "      <th>Sales Amount (Purchase Currency)</th>\n",
       "      <th>Lifetime Value (User Currency)</th>\n",
       "      <th>TIME-Year</th>\n",
       "      <th>TIME-Month</th>\n",
       "    </tr>\n",
       "  </thead>\n",
       "  <tbody>\n",
       "    <tr>\n",
       "      <th>0</th>\n",
       "      <td>Starfield hanam</td>\n",
       "      <td>Person</td>\n",
       "      <td>Starfield hanam</td>\n",
       "      <td>0015800000w4QoOAAU</td>\n",
       "      <td>7135003.000</td>\n",
       "      <td>Male</td>\n",
       "      <td>오승묵</td>\n",
       "      <td>False</td>\n",
       "      <td>1984.000</td>\n",
       "      <td>Dormant</td>\n",
       "      <td>Jina Yun(21765)</td>\n",
       "      <td>NaN</td>\n",
       "      <td>True</td>\n",
       "      <td>2017-01-01</td>\n",
       "      <td>2017. 1. 1</td>\n",
       "      <td>Retail-Return mchdse</td>\n",
       "      <td>053702000001258</td>\n",
       "      <td>JEW</td>\n",
       "      <td>Rings-F-C</td>\n",
       "      <td>B.zero1</td>\n",
       "      <td>B.zero1</td>\n",
       "      <td>335937</td>\n",
       "      <td>AN852405</td>\n",
       "      <td>AN B01 PINK GOLD 3 BANDS S.56</td>\n",
       "      <td>2017-01-01</td>\n",
       "      <td>1.000</td>\n",
       "      <td>NaN</td>\n",
       "      <td>-2350000.000</td>\n",
       "      <td>4500000.000</td>\n",
       "      <td>2017</td>\n",
       "      <td>1</td>\n",
       "    </tr>\n",
       "    <tr>\n",
       "      <th>1</th>\n",
       "      <td>Starfield hanam</td>\n",
       "      <td>Person</td>\n",
       "      <td>Starfield hanam</td>\n",
       "      <td>0015800000w4QoOAAU</td>\n",
       "      <td>7135003.000</td>\n",
       "      <td>Male</td>\n",
       "      <td>오승묵</td>\n",
       "      <td>False</td>\n",
       "      <td>1984.000</td>\n",
       "      <td>Dormant</td>\n",
       "      <td>Jina Yun(21765)</td>\n",
       "      <td>NaN</td>\n",
       "      <td>True</td>\n",
       "      <td>2017-01-01</td>\n",
       "      <td>2017. 1. 1</td>\n",
       "      <td>Retail-Mchdise sale</td>\n",
       "      <td>053702000001258</td>\n",
       "      <td>JEW</td>\n",
       "      <td>Rings-F-C</td>\n",
       "      <td>B.zero1</td>\n",
       "      <td>B.zero1</td>\n",
       "      <td>335937</td>\n",
       "      <td>AN852405</td>\n",
       "      <td>AN B01 PINK GOLD 3 BANDS S.56</td>\n",
       "      <td>2017-01-01</td>\n",
       "      <td>1.000</td>\n",
       "      <td>NaN</td>\n",
       "      <td>2350000.000</td>\n",
       "      <td>4500000.000</td>\n",
       "      <td>2017</td>\n",
       "      <td>1</td>\n",
       "    </tr>\n",
       "    <tr>\n",
       "      <th>2</th>\n",
       "      <td>Starfield hanam</td>\n",
       "      <td>Person</td>\n",
       "      <td>Starfield hanam</td>\n",
       "      <td>0015800000w4QoOAAU</td>\n",
       "      <td>7135003.000</td>\n",
       "      <td>Male</td>\n",
       "      <td>오승묵</td>\n",
       "      <td>False</td>\n",
       "      <td>1984.000</td>\n",
       "      <td>Dormant</td>\n",
       "      <td>Jina Yun(21765)</td>\n",
       "      <td>NaN</td>\n",
       "      <td>True</td>\n",
       "      <td>2017-01-01</td>\n",
       "      <td>2017. 1. 1</td>\n",
       "      <td>Retail-Mchdise sale</td>\n",
       "      <td>053702000001260</td>\n",
       "      <td>JEW</td>\n",
       "      <td>Rings-F-C</td>\n",
       "      <td>Bvlgari Bvlgari</td>\n",
       "      <td>Bvlgari Bvlgari Bands</td>\n",
       "      <td>341827</td>\n",
       "      <td>AN854185</td>\n",
       "      <td>BAND RING BULGARI BULGARI PG DIA S.56</td>\n",
       "      <td>2017-01-01</td>\n",
       "      <td>1.000</td>\n",
       "      <td>NaN</td>\n",
       "      <td>2250000.000</td>\n",
       "      <td>4500000.000</td>\n",
       "      <td>2017</td>\n",
       "      <td>1</td>\n",
       "    </tr>\n",
       "    <tr>\n",
       "      <th>3</th>\n",
       "      <td>Starfield hanam</td>\n",
       "      <td>Person</td>\n",
       "      <td>Starfield hanam</td>\n",
       "      <td>0015800000w4QoOAAU</td>\n",
       "      <td>7135003.000</td>\n",
       "      <td>Male</td>\n",
       "      <td>오승묵</td>\n",
       "      <td>False</td>\n",
       "      <td>1984.000</td>\n",
       "      <td>Dormant</td>\n",
       "      <td>Jina Yun(21765)</td>\n",
       "      <td>NaN</td>\n",
       "      <td>True</td>\n",
       "      <td>2017-01-01</td>\n",
       "      <td>2017. 1. 1</td>\n",
       "      <td>Retail-Mchdise sale</td>\n",
       "      <td>053702000001260</td>\n",
       "      <td>JEW</td>\n",
       "      <td>Rings-F-C</td>\n",
       "      <td>Bvlgari Bvlgari</td>\n",
       "      <td>Bvlgari Bvlgari Bands</td>\n",
       "      <td>341820</td>\n",
       "      <td>AN854185</td>\n",
       "      <td>BAND RING BULGARI BULGARI PG DIA S.49</td>\n",
       "      <td>2017-01-01</td>\n",
       "      <td>1.000</td>\n",
       "      <td>NaN</td>\n",
       "      <td>2250000.000</td>\n",
       "      <td>4500000.000</td>\n",
       "      <td>2017</td>\n",
       "      <td>1</td>\n",
       "    </tr>\n",
       "    <tr>\n",
       "      <th>4</th>\n",
       "      <td>Starfield hanam</td>\n",
       "      <td>Person</td>\n",
       "      <td>Starfield hanam</td>\n",
       "      <td>0015800000w4QoOAAU</td>\n",
       "      <td>7135003.000</td>\n",
       "      <td>Male</td>\n",
       "      <td>오승묵</td>\n",
       "      <td>False</td>\n",
       "      <td>1984.000</td>\n",
       "      <td>Dormant</td>\n",
       "      <td>Jina Yun(21765)</td>\n",
       "      <td>NaN</td>\n",
       "      <td>True</td>\n",
       "      <td>2017-01-01</td>\n",
       "      <td>2017. 1. 1</td>\n",
       "      <td>Retail-Return mchdse</td>\n",
       "      <td>053702000001258</td>\n",
       "      <td>JEW</td>\n",
       "      <td>Rings-F-C</td>\n",
       "      <td>Bvlgari Bvlgari</td>\n",
       "      <td>Bvlgari Bvlgari Bands</td>\n",
       "      <td>341820</td>\n",
       "      <td>AN854185</td>\n",
       "      <td>BAND RING BULGARI BULGARI PG DIA S.49</td>\n",
       "      <td>2017-01-01</td>\n",
       "      <td>1.000</td>\n",
       "      <td>NaN</td>\n",
       "      <td>-2250000.000</td>\n",
       "      <td>4500000.000</td>\n",
       "      <td>2017</td>\n",
       "      <td>1</td>\n",
       "    </tr>\n",
       "  </tbody>\n",
       "</table>\n",
       "</div>"
      ],
      "text/plain": [
       "        Main Store Client Category   Purchase: Shop            COSMO ID  \\\n",
       "0  Starfield hanam          Person  Starfield hanam  0015800000w4QoOAAU   \n",
       "1  Starfield hanam          Person  Starfield hanam  0015800000w4QoOAAU   \n",
       "2  Starfield hanam          Person  Starfield hanam  0015800000w4QoOAAU   \n",
       "3  Starfield hanam          Person  Starfield hanam  0015800000w4QoOAAU   \n",
       "4  Starfield hanam          Person  Starfield hanam  0015800000w4QoOAAU   \n",
       "\n",
       "       CRM ID Gender Last and First Name (Local)  One Shot  Birthdate Year  \\\n",
       "0 7135003.000   Male                         오승묵     False        1984.000   \n",
       "1 7135003.000   Male                         오승묵     False        1984.000   \n",
       "2 7135003.000   Male                         오승묵     False        1984.000   \n",
       "3 7135003.000   Male                         오승묵     False        1984.000   \n",
       "4 7135003.000   Male                         오승묵     False        1984.000   \n",
       "\n",
       "   Segment Main Client Advisor Nationality  Marketing Authorization  \\\n",
       "0  Dormant     Jina Yun(21765)         NaN                     True   \n",
       "1  Dormant     Jina Yun(21765)         NaN                     True   \n",
       "2  Dormant     Jina Yun(21765)         NaN                     True   \n",
       "3  Dormant     Jina Yun(21765)         NaN                     True   \n",
       "4  Dormant     Jina Yun(21765)         NaN                     True   \n",
       "\n",
       "  First Purchase Date Last Purchase Date General Transaction Type Details  \\\n",
       "0          2017-01-01                 2017. 1. 1     Retail-Return mchdse   \n",
       "1          2017-01-01                 2017. 1. 1      Retail-Mchdise sale   \n",
       "2          2017-01-01                 2017. 1. 1      Retail-Mchdise sale   \n",
       "3          2017-01-01                 2017. 1. 1      Retail-Mchdise sale   \n",
       "4          2017-01-01                 2017. 1. 1     Retail-Return mchdse   \n",
       "\n",
       "  Reference Transaction Beanstore2  SBU Product Family Aesthetic Motive  \\\n",
       "0                  053702000001258  JEW      Rings-F-C          B.zero1   \n",
       "1                  053702000001258  JEW      Rings-F-C          B.zero1   \n",
       "2                  053702000001260  JEW      Rings-F-C  Bvlgari Bvlgari   \n",
       "3                  053702000001260  JEW      Rings-F-C  Bvlgari Bvlgari   \n",
       "4                  053702000001258  JEW      Rings-F-C  Bvlgari Bvlgari   \n",
       "\n",
       "          Aesthetic Line Material Number (SAP Code) Catalog Code  \\\n",
       "0                B.zero1                     335937     AN852405   \n",
       "1                B.zero1                     335937     AN852405   \n",
       "2  Bvlgari Bvlgari Bands                     341827     AN854185   \n",
       "3  Bvlgari Bvlgari Bands                     341820     AN854185   \n",
       "4  Bvlgari Bvlgari Bands                     341820     AN854185   \n",
       "\n",
       "                            Product Name Purchase Date  Item Quantity  \\\n",
       "0          AN B01 PINK GOLD 3 BANDS S.56    2017-01-01          1.000   \n",
       "1          AN B01 PINK GOLD 3 BANDS S.56    2017-01-01          1.000   \n",
       "2  BAND RING BULGARI BULGARI PG DIA S.56    2017-01-01          1.000   \n",
       "3  BAND RING BULGARI BULGARI PG DIA S.49    2017-01-01          1.000   \n",
       "4  BAND RING BULGARI BULGARI PG DIA S.49    2017-01-01          1.000   \n",
       "\n",
       "   Discount %  Sales Amount (Purchase Currency)  \\\n",
       "0         NaN                      -2350000.000   \n",
       "1         NaN                       2350000.000   \n",
       "2         NaN                       2250000.000   \n",
       "3         NaN                       2250000.000   \n",
       "4         NaN                      -2250000.000   \n",
       "\n",
       "   Lifetime Value (User Currency)  TIME-Year  TIME-Month  \n",
       "0                     4500000.000       2017           1  \n",
       "1                     4500000.000       2017           1  \n",
       "2                     4500000.000       2017           1  \n",
       "3                     4500000.000       2017           1  \n",
       "4                     4500000.000       2017           1  "
      ]
     },
     "execution_count": 8,
     "metadata": {},
     "output_type": "execute_result"
    }
   ],
   "source": [
    "# Text 타입(Object)를 날짜 형식(Datetime)으로 변환\n",
    "df1['First Purchase Date'] = pd.to_datetime(df1['First Purchase Date'], yearfirst=True, errors='coerce')\n",
    "df1['Purchase Date'] = pd.to_datetime(df1['Purchase Date'], yearfirst=True, errors='coerce')\n",
    "df1['TIME-Year'] = df1['Purchase Date'].dt.year\n",
    "df1['TIME-Month'] = df1['Purchase Date'].dt.month\n",
    "df1.head()"
   ]
  },
  {
   "cell_type": "code",
   "execution_count": 9,
   "metadata": {},
   "outputs": [
    {
     "data": {
      "text/plain": [
       "(291748, 31)"
      ]
     },
     "execution_count": 9,
     "metadata": {},
     "output_type": "execute_result"
    }
   ],
   "source": [
    "df1.shape"
   ]
  },
  {
   "cell_type": "code",
   "execution_count": 10,
   "metadata": {
    "tags": []
   },
   "outputs": [
    {
     "data": {
      "text/plain": [
       "(182149, 31)"
      ]
     },
     "execution_count": 10,
     "metadata": {},
     "output_type": "execute_result"
    }
   ],
   "source": [
    "df1 = df1[~df1['SBU'].isin(['JAS', 'PER', 'WAS', 'AAS'])] # JWA sales only\n",
    "df1 = df1[~df1['Client Category'].isin(['Employee'])] # w.o employee sales (family sales는 purchase shop에서 ofc로 표기되므로 매장에서 걸러짐)\n",
    "df1 = df1[(df1['Transaction Type Details']==\"Retail-Mchdise sale\")|(df1['Transaction Type Details']==\"Retail-Return mchdse\")] #제품 영수증만(기프트 영수증 및 디파짓 제외)\n",
    "df1 = df1[~df1['Sales Amount (Purchase Currency)'].isnull()]\n",
    "df1.shape"
   ]
  },
  {
   "cell_type": "code",
   "execution_count": 11,
   "metadata": {
    "tags": []
   },
   "outputs": [
    {
     "data": {
      "text/plain": [
       "{'AK Plaza Bundang',\n",
       " 'BANGKOK EMPORIUM',\n",
       " 'BRISBANE',\n",
       " 'Bangkok Siam Paragon',\n",
       " 'CHENGDU IFS',\n",
       " 'CWTC Store, Beijing',\n",
       " 'Central Phuket Floresta',\n",
       " 'Deji store, Nanjing',\n",
       " 'E-Commerce FR',\n",
       " 'E-Commerce KR',\n",
       " 'Galleria Gwanggyo',\n",
       " 'Galleria Luxury Hall (East)',\n",
       " 'Gold Coast Pacific Fair Store',\n",
       " 'GreenBelt 4',\n",
       " 'Hyundai Apgujeong',\n",
       " 'Hyundai Department Store Mokdong',\n",
       " 'Lotte Avenuel',\n",
       " 'Lotte Avenuel World Tower',\n",
       " 'Lotte Department Store Busan Avenuel',\n",
       " 'Lotte Department Store Centumcity',\n",
       " 'Lotte Department Store Daegu',\n",
       " 'Lotte Department Store Gwangju',\n",
       " 'Lotte Department Ulsan',\n",
       " 'MACAU GALAXY',\n",
       " 'MIXC Store, Shenzhen',\n",
       " 'Macau Wynn Palace',\n",
       " 'OFC',\n",
       " 'Pangyo Hyundai',\n",
       " 'Paris Galeries Lafayette',\n",
       " 'Plaza 66 Store, Shanghai',\n",
       " 'Seoul Galleria West',\n",
       " 'Seoul Hyundai Parc1',\n",
       " 'Shinsegae Daegu',\n",
       " 'Shinsegae Deparment Store Gangnam',\n",
       " 'Shinsegae Department Store Centum City',\n",
       " 'Shinsegae Department Store Gyeonggi',\n",
       " 'Shinsegae Department Store Yeongdeungpo',\n",
       " 'Starfield hanam',\n",
       " 'Taikoo Hui Store, Guangzhou'}"
      ]
     },
     "execution_count": 11,
     "metadata": {},
     "output_type": "execute_result"
    }
   ],
   "source": [
    "StringList = df1['Purchase: Shop'].tolist()\n",
    "set([p for p in StringList if not(p.startswith(('Bvlgari', 'BVLGARI', 'Bulgari')))]) #우리매장만 골라내기"
   ]
  },
  {
   "cell_type": "code",
   "execution_count": 12,
   "metadata": {},
   "outputs": [
    {
     "data": {
      "text/plain": [
       "22"
      ]
     },
     "execution_count": 12,
     "metadata": {},
     "output_type": "execute_result"
    }
   ],
   "source": [
    "shop = [\"AK Plaza Bundang\",\"E-Commerce KR\",\"Galleria Gwanggyo\",\"Galleria Luxury Hall (East)\",\"Hyundai Apgujeong\",\\\n",
    "       \"Hyundai Department Store Mokdong\",\"Lotte Avenuel\",\"Lotte Avenuel World Tower\",\"Lotte Department Store Busan Avenuel\",\\\n",
    "       \"Lotte Department Store Centumcity\",\"Lotte Department Store Daegu\",\"Lotte Department Store Gwangju\",\"Lotte Department Ulsan\",\\\n",
    "       \"Pangyo Hyundai\",'Seoul Galleria West', 'Seoul Hyundai Parc1', \"Shinsegae Daegu\",\"Shinsegae Deparment Store Gangnam\",\"Shinsegae Department Store Centum City\",\\\n",
    "       \"Shinsegae Department Store Gyeonggi\",\"Shinsegae Department Store Yeongdeungpo\",\"Starfield hanam\"]\n",
    "len(shop)"
   ]
  },
  {
   "cell_type": "code",
   "execution_count": 13,
   "metadata": {
    "tags": []
   },
   "outputs": [
    {
     "data": {
      "text/plain": [
       "(180966, 31)"
      ]
     },
     "execution_count": 13,
     "metadata": {},
     "output_type": "execute_result"
    }
   ],
   "source": [
    "df1 = df1[df1['Purchase: Shop'].isin(shop)]\n",
    "df1.shape"
   ]
  },
  {
   "cell_type": "code",
   "execution_count": 14,
   "metadata": {},
   "outputs": [
    {
     "data": {
      "text/plain": [
       "621775497183.0"
      ]
     },
     "execution_count": 14,
     "metadata": {},
     "output_type": "execute_result"
    }
   ],
   "source": [
    "df1['Sales Amount (Purchase Currency)'].sum()"
   ]
  },
  {
   "cell_type": "code",
   "execution_count": 15,
   "metadata": {},
   "outputs": [
    {
     "name": "stdout",
     "output_type": "stream",
     "text": [
      "234449999.99999997\n"
     ]
    },
    {
     "data": {
      "text/plain": [
       "(180825, 31)"
      ]
     },
     "execution_count": 15,
     "metadata": {},
     "output_type": "execute_result"
    }
   ],
   "source": [
    "#bi bw raw data pc 224 sales invoice를 코스모 데이터에서 제외 (별로없음)\n",
    "emp = df['Sales ID BS'].unique().tolist()\n",
    "print(df1[df1['Reference Transaction Beanstore2'].isin(emp)]['Sales Amount (Purchase Currency)'].sum() / 1.1)\n",
    "df1 = df1[~df1['Reference Transaction Beanstore2'].isin(emp)]\n",
    "df1.shape"
   ]
  },
  {
   "cell_type": "code",
   "execution_count": 16,
   "metadata": {},
   "outputs": [
    {
     "data": {
      "text/plain": [
       "565016001984.5454"
      ]
     },
     "execution_count": 16,
     "metadata": {},
     "output_type": "execute_result"
    }
   ],
   "source": [
    "df1['Sales Amount (Purchase Currency)'].sum() / 1.1"
   ]
  },
  {
   "cell_type": "code",
   "execution_count": 17,
   "metadata": {},
   "outputs": [
    {
     "name": "stdout",
     "output_type": "stream",
     "text": [
      "(180825, 31)\n",
      "<class 'pandas.core.frame.DataFrame'>\n",
      "RangeIndex: 180825 entries, 0 to 180824\n",
      "Data columns (total 31 columns):\n",
      " #   Column                            Non-Null Count   Dtype         \n",
      "---  ------                            --------------   -----         \n",
      " 0   Main Store                        180500 non-null  object        \n",
      " 1   Client Category                   180821 non-null  object        \n",
      " 2   Purchase: Shop                    180825 non-null  object        \n",
      " 3   COSMO ID                          180825 non-null  object        \n",
      " 4   CRM ID                            180685 non-null  float64       \n",
      " 5   Gender                            178843 non-null  object        \n",
      " 6   Last and First Name (Local)       180754 non-null  object        \n",
      " 7   One Shot                          180825 non-null  bool          \n",
      " 8   Birthdate Year                    66632 non-null   float64       \n",
      " 9   Segment                           173479 non-null  object        \n",
      " 10  Main Client Advisor               180793 non-null  object        \n",
      " 11  Nationality                       142858 non-null  object        \n",
      " 12  Marketing Authorization           180825 non-null  bool          \n",
      " 13  First Purchase Date               180308 non-null  datetime64[ns]\n",
      " 14  Last Purchase Date General        180270 non-null  object        \n",
      " 15  Transaction Type Details          180825 non-null  object        \n",
      " 16  Reference Transaction Beanstore2  180825 non-null  object        \n",
      " 17  SBU                               180780 non-null  object        \n",
      " 18  Product Family                    180780 non-null  object        \n",
      " 19  Aesthetic Motive                  180780 non-null  object        \n",
      " 20  Aesthetic Line                    180778 non-null  object        \n",
      " 21  Material Number (SAP Code)        180825 non-null  object        \n",
      " 22  Catalog Code                      180778 non-null  object        \n",
      " 23  Product Name                      180825 non-null  object        \n",
      " 24  Purchase Date                     180825 non-null  datetime64[ns]\n",
      " 25  Item Quantity                     180825 non-null  float64       \n",
      " 26  Discount %                        15964 non-null   float64       \n",
      " 27  Sales Amount (Purchase Currency)  180825 non-null  float64       \n",
      " 28  Lifetime Value (User Currency)    180825 non-null  float64       \n",
      " 29  TIME-Year                         180825 non-null  int64         \n",
      " 30  TIME-Month                        180825 non-null  int64         \n",
      "dtypes: bool(2), datetime64[ns](2), float64(6), int64(2), object(19)\n",
      "memory usage: 40.4+ MB\n"
     ]
    }
   ],
   "source": [
    "df1.reset_index(drop=True, inplace=True)\n",
    "print(df1.shape)\n",
    "df1.info()"
   ]
  },
  {
   "cell_type": "code",
   "execution_count": 18,
   "metadata": {},
   "outputs": [
    {
     "data": {
      "text/html": [
       "<div>\n",
       "<style scoped>\n",
       "    .dataframe tbody tr th:only-of-type {\n",
       "        vertical-align: middle;\n",
       "    }\n",
       "\n",
       "    .dataframe tbody tr th {\n",
       "        vertical-align: top;\n",
       "    }\n",
       "\n",
       "    .dataframe thead th {\n",
       "        text-align: right;\n",
       "    }\n",
       "</style>\n",
       "<table border=\"1\" class=\"dataframe\">\n",
       "  <thead>\n",
       "    <tr style=\"text-align: right;\">\n",
       "      <th></th>\n",
       "      <th>cosmo</th>\n",
       "    </tr>\n",
       "  </thead>\n",
       "  <tbody>\n",
       "    <tr>\n",
       "      <th>0</th>\n",
       "      <td>64902216590.909</td>\n",
       "    </tr>\n",
       "    <tr>\n",
       "      <th>1</th>\n",
       "      <td>73758119800.000</td>\n",
       "    </tr>\n",
       "    <tr>\n",
       "      <th>2</th>\n",
       "      <td>89986545325.455</td>\n",
       "    </tr>\n",
       "    <tr>\n",
       "      <th>3</th>\n",
       "      <td>123964575572.727</td>\n",
       "    </tr>\n",
       "    <tr>\n",
       "      <th>4</th>\n",
       "      <td>212404544695.455</td>\n",
       "    </tr>\n",
       "  </tbody>\n",
       "</table>\n",
       "</div>"
      ],
      "text/plain": [
       "             cosmo\n",
       "0  64902216590.909\n",
       "1  73758119800.000\n",
       "2  89986545325.455\n",
       "3 123964575572.727\n",
       "4 212404544695.455"
      ]
     },
     "execution_count": 18,
     "metadata": {},
     "output_type": "execute_result"
    }
   ],
   "source": [
    "cosmo = []\n",
    "for i in range(2017, 2022):\n",
    "    dfshop = df1[(df1['TIME-Year']==i)]['Sales Amount (Purchase Currency)'].sum()/1.1\n",
    "    cosmo.append(dfshop)\n",
    "cosmo = pd.DataFrame(cosmo, columns=['cosmo'])\n",
    "cosmo"
   ]
  },
  {
   "cell_type": "code",
   "execution_count": 19,
   "metadata": {},
   "outputs": [
    {
     "data": {
      "text/html": [
       "<div>\n",
       "<style scoped>\n",
       "    .dataframe tbody tr th:only-of-type {\n",
       "        vertical-align: middle;\n",
       "    }\n",
       "\n",
       "    .dataframe tbody tr th {\n",
       "        vertical-align: top;\n",
       "    }\n",
       "\n",
       "    .dataframe thead th {\n",
       "        text-align: right;\n",
       "    }\n",
       "</style>\n",
       "<table border=\"1\" class=\"dataframe\">\n",
       "  <thead>\n",
       "    <tr style=\"text-align: right;\">\n",
       "      <th></th>\n",
       "      <th>cosmo</th>\n",
       "      <th>bi</th>\n",
       "      <th>cosmo/bi</th>\n",
       "      <th>cosmo-bi</th>\n",
       "    </tr>\n",
       "  </thead>\n",
       "  <tbody>\n",
       "    <tr>\n",
       "      <th>0</th>\n",
       "      <td>64902216590.909</td>\n",
       "      <td>64785888018</td>\n",
       "      <td>1.002</td>\n",
       "      <td>116328572.909</td>\n",
       "    </tr>\n",
       "    <tr>\n",
       "      <th>1</th>\n",
       "      <td>73758119800.000</td>\n",
       "      <td>74203771726</td>\n",
       "      <td>0.994</td>\n",
       "      <td>-445651926.000</td>\n",
       "    </tr>\n",
       "    <tr>\n",
       "      <th>2</th>\n",
       "      <td>89986545325.455</td>\n",
       "      <td>90169871712</td>\n",
       "      <td>0.998</td>\n",
       "      <td>-183326386.545</td>\n",
       "    </tr>\n",
       "    <tr>\n",
       "      <th>3</th>\n",
       "      <td>123964575572.727</td>\n",
       "      <td>123572022972</td>\n",
       "      <td>1.003</td>\n",
       "      <td>392552600.727</td>\n",
       "    </tr>\n",
       "    <tr>\n",
       "      <th>4</th>\n",
       "      <td>212404544695.455</td>\n",
       "      <td>215761181700</td>\n",
       "      <td>0.984</td>\n",
       "      <td>-3356637004.545</td>\n",
       "    </tr>\n",
       "  </tbody>\n",
       "</table>\n",
       "</div>"
      ],
      "text/plain": [
       "             cosmo            bi  cosmo/bi        cosmo-bi\n",
       "0  64902216590.909   64785888018     1.002   116328572.909\n",
       "1  73758119800.000   74203771726     0.994  -445651926.000\n",
       "2  89986545325.455   90169871712     0.998  -183326386.545\n",
       "3 123964575572.727  123572022972     1.003   392552600.727\n",
       "4 212404544695.455  215761181700     0.984 -3356637004.545"
      ]
     },
     "execution_count": 19,
     "metadata": {},
     "output_type": "execute_result"
    }
   ],
   "source": [
    "md = [64785888018, 74203771726, 90169871712, 123572022972, 215761181700] #b2와 매칭되는 정도 파악\n",
    "md = pd.DataFrame(md, columns=['bi'])\n",
    "df2 = pd.concat([cosmo, md], axis=1) #bw, \n",
    "df2['cosmo/bi'] = df2['cosmo'] / df2['bi']\n",
    "df2['cosmo-bi'] = df2['cosmo'] - df2['bi']\n",
    "# df2['bw/bi'] = df2['bw'] / df2['bi']\n",
    "# df2['bw-bi'] = df2['bw'] - df2['bi']\n",
    "df2"
   ]
  },
  {
   "cell_type": "code",
   "execution_count": 20,
   "metadata": {},
   "outputs": [],
   "source": [
    "# 괴리가 클시 확인해볼것\n",
    "# df1[df1['Purchase Date'].dt.year == 2021].set_index('Purchase Date').groupby(pd.Grouper(freq='M'))['Sales Amount (Purchase Currency)'].sum() / 1.1"
   ]
  },
  {
   "cell_type": "code",
   "execution_count": 21,
   "metadata": {},
   "outputs": [
    {
     "name": "stdout",
     "output_type": "stream",
     "text": [
      "<class 'pandas.core.frame.DataFrame'>\n",
      "RangeIndex: 180825 entries, 0 to 180824\n",
      "Data columns (total 31 columns):\n",
      " #   Column                            Non-Null Count   Dtype         \n",
      "---  ------                            --------------   -----         \n",
      " 0   Main Store                        180500 non-null  object        \n",
      " 1   Client Category                   180821 non-null  object        \n",
      " 2   Purchase: Shop                    180825 non-null  object        \n",
      " 3   COSMO ID                          180825 non-null  object        \n",
      " 4   CRM ID                            180685 non-null  float64       \n",
      " 5   Gender                            178843 non-null  object        \n",
      " 6   Last and First Name (Local)       180754 non-null  object        \n",
      " 7   One Shot                          180825 non-null  bool          \n",
      " 8   Birthdate Year                    66632 non-null   float64       \n",
      " 9   Segment                           173479 non-null  object        \n",
      " 10  Main Client Advisor               180793 non-null  object        \n",
      " 11  Nationality                       142858 non-null  object        \n",
      " 12  Marketing Authorization           180825 non-null  bool          \n",
      " 13  First Purchase Date               180308 non-null  datetime64[ns]\n",
      " 14  Last Purchase Date General        180270 non-null  object        \n",
      " 15  Transaction Type Details          180825 non-null  object        \n",
      " 16  Reference Transaction Beanstore2  180825 non-null  object        \n",
      " 17  SBU                               180780 non-null  object        \n",
      " 18  Product Family                    180780 non-null  object        \n",
      " 19  Aesthetic Motive                  180780 non-null  object        \n",
      " 20  Aesthetic Line                    180778 non-null  object        \n",
      " 21  Material Number (SAP Code)        180825 non-null  object        \n",
      " 22  Catalog Code                      180778 non-null  object        \n",
      " 23  Product Name                      180825 non-null  object        \n",
      " 24  Purchase Date                     180825 non-null  datetime64[ns]\n",
      " 25  Item Quantity                     180825 non-null  float64       \n",
      " 26  Discount %                        15964 non-null   float64       \n",
      " 27  Sales Amount (Purchase Currency)  180825 non-null  float64       \n",
      " 28  Lifetime Value (User Currency)    180825 non-null  float64       \n",
      " 29  TIME-Year                         180825 non-null  int64         \n",
      " 30  TIME-Month                        180825 non-null  int64         \n",
      "dtypes: bool(2), datetime64[ns](2), float64(6), int64(2), object(19)\n",
      "memory usage: 40.4+ MB\n"
     ]
    }
   ],
   "source": [
    "df1.info()"
   ]
  },
  {
   "cell_type": "code",
   "execution_count": 22,
   "metadata": {},
   "outputs": [
    {
     "name": "stdout",
     "output_type": "stream",
     "text": [
      "180825\n"
     ]
    },
    {
     "data": {
      "text/html": [
       "<div>\n",
       "<style scoped>\n",
       "    .dataframe tbody tr th:only-of-type {\n",
       "        vertical-align: middle;\n",
       "    }\n",
       "\n",
       "    .dataframe tbody tr th {\n",
       "        vertical-align: top;\n",
       "    }\n",
       "\n",
       "    .dataframe thead th {\n",
       "        text-align: right;\n",
       "    }\n",
       "</style>\n",
       "<table border=\"1\" class=\"dataframe\">\n",
       "  <thead>\n",
       "    <tr style=\"text-align: right;\">\n",
       "      <th></th>\n",
       "      <th>TIME-Year</th>\n",
       "      <th>TIME-Month</th>\n",
       "      <th>TIME-Date</th>\n",
       "      <th>Purchase: Shop</th>\n",
       "      <th>Main Client Advisor</th>\n",
       "      <th>COSMO ID</th>\n",
       "      <th>Transaction Type Details</th>\n",
       "      <th>Sales ID BS</th>\n",
       "      <th>MAT_Material(key)</th>\n",
       "      <th>UNIT SOLD</th>\n",
       "      <th>Discount %</th>\n",
       "      <th>NET VALUE</th>\n",
       "    </tr>\n",
       "  </thead>\n",
       "  <tbody>\n",
       "    <tr>\n",
       "      <th>0</th>\n",
       "      <td>2017</td>\n",
       "      <td>1</td>\n",
       "      <td>2017-01-01</td>\n",
       "      <td>Starfield hanam</td>\n",
       "      <td>Jina Yun(21765)</td>\n",
       "      <td>0015800000w4QoOAAU</td>\n",
       "      <td>Retail-Return mchdse</td>\n",
       "      <td>053702000001258</td>\n",
       "      <td>335937</td>\n",
       "      <td>1.000</td>\n",
       "      <td>NaN</td>\n",
       "      <td>-2350000.000</td>\n",
       "    </tr>\n",
       "    <tr>\n",
       "      <th>1</th>\n",
       "      <td>2017</td>\n",
       "      <td>1</td>\n",
       "      <td>2017-01-01</td>\n",
       "      <td>Starfield hanam</td>\n",
       "      <td>Jina Yun(21765)</td>\n",
       "      <td>0015800000w4QoOAAU</td>\n",
       "      <td>Retail-Mchdise sale</td>\n",
       "      <td>053702000001258</td>\n",
       "      <td>335937</td>\n",
       "      <td>1.000</td>\n",
       "      <td>NaN</td>\n",
       "      <td>2350000.000</td>\n",
       "    </tr>\n",
       "    <tr>\n",
       "      <th>2</th>\n",
       "      <td>2017</td>\n",
       "      <td>1</td>\n",
       "      <td>2017-01-01</td>\n",
       "      <td>Starfield hanam</td>\n",
       "      <td>Jina Yun(21765)</td>\n",
       "      <td>0015800000w4QoOAAU</td>\n",
       "      <td>Retail-Mchdise sale</td>\n",
       "      <td>053702000001260</td>\n",
       "      <td>341827</td>\n",
       "      <td>1.000</td>\n",
       "      <td>NaN</td>\n",
       "      <td>2250000.000</td>\n",
       "    </tr>\n",
       "    <tr>\n",
       "      <th>3</th>\n",
       "      <td>2017</td>\n",
       "      <td>1</td>\n",
       "      <td>2017-01-01</td>\n",
       "      <td>Starfield hanam</td>\n",
       "      <td>Jina Yun(21765)</td>\n",
       "      <td>0015800000w4QoOAAU</td>\n",
       "      <td>Retail-Mchdise sale</td>\n",
       "      <td>053702000001260</td>\n",
       "      <td>341820</td>\n",
       "      <td>1.000</td>\n",
       "      <td>NaN</td>\n",
       "      <td>2250000.000</td>\n",
       "    </tr>\n",
       "    <tr>\n",
       "      <th>4</th>\n",
       "      <td>2017</td>\n",
       "      <td>1</td>\n",
       "      <td>2017-01-01</td>\n",
       "      <td>Starfield hanam</td>\n",
       "      <td>Jina Yun(21765)</td>\n",
       "      <td>0015800000w4QoOAAU</td>\n",
       "      <td>Retail-Return mchdse</td>\n",
       "      <td>053702000001258</td>\n",
       "      <td>341820</td>\n",
       "      <td>1.000</td>\n",
       "      <td>NaN</td>\n",
       "      <td>-2250000.000</td>\n",
       "    </tr>\n",
       "  </tbody>\n",
       "</table>\n",
       "</div>"
      ],
      "text/plain": [
       "   TIME-Year  TIME-Month  TIME-Date   Purchase: Shop Main Client Advisor  \\\n",
       "0       2017           1 2017-01-01  Starfield hanam     Jina Yun(21765)   \n",
       "1       2017           1 2017-01-01  Starfield hanam     Jina Yun(21765)   \n",
       "2       2017           1 2017-01-01  Starfield hanam     Jina Yun(21765)   \n",
       "3       2017           1 2017-01-01  Starfield hanam     Jina Yun(21765)   \n",
       "4       2017           1 2017-01-01  Starfield hanam     Jina Yun(21765)   \n",
       "\n",
       "             COSMO ID Transaction Type Details      Sales ID BS  \\\n",
       "0  0015800000w4QoOAAU     Retail-Return mchdse  053702000001258   \n",
       "1  0015800000w4QoOAAU      Retail-Mchdise sale  053702000001258   \n",
       "2  0015800000w4QoOAAU      Retail-Mchdise sale  053702000001260   \n",
       "3  0015800000w4QoOAAU      Retail-Mchdise sale  053702000001260   \n",
       "4  0015800000w4QoOAAU     Retail-Return mchdse  053702000001258   \n",
       "\n",
       "  MAT_Material(key)  UNIT SOLD  Discount %    NET VALUE  \n",
       "0            335937      1.000         NaN -2350000.000  \n",
       "1            335937      1.000         NaN  2350000.000  \n",
       "2            341827      1.000         NaN  2250000.000  \n",
       "3            341820      1.000         NaN  2250000.000  \n",
       "4            341820      1.000         NaN -2250000.000  "
      ]
     },
     "execution_count": 22,
     "metadata": {},
     "output_type": "execute_result"
    }
   ],
   "source": [
    "# df2: 고객데이터 필요한컬럼만 선택\n",
    "df2 = df1.loc[:, ['TIME-Year', 'TIME-Month', 'Purchase Date', 'Purchase: Shop', 'Main Client Advisor', 'COSMO ID', 'Transaction Type Details', 'Reference Transaction Beanstore2', \\\n",
    "                  'Material Number (SAP Code)', 'Item Quantity', 'Discount %', 'Sales Amount (Purchase Currency)']]\\\n",
    ".rename(columns={'Purchase Date':'TIME-Date', 'Reference Transaction Beanstore2': 'Sales ID BS', 'Material Number (SAP Code)':'MAT_Material(key)', 'Item Quantity':'UNIT SOLD', \\\n",
    "                 'Sales Amount (Purchase Currency)':'NET VALUE'}) #부가세 포함 금액임 (코드짜놓은거 재사용하기위해바꿈)\n",
    "print(len(df2))\n",
    "df2.head()"
   ]
  },
  {
   "cell_type": "code",
   "execution_count": 23,
   "metadata": {},
   "outputs": [
    {
     "name": "stdout",
     "output_type": "stream",
     "text": [
      "86854\n"
     ]
    },
    {
     "data": {
      "text/plain": [
       "(86854, 9)"
      ]
     },
     "execution_count": 23,
     "metadata": {},
     "output_type": "execute_result"
    }
   ],
   "source": [
    "print(df2['COSMO ID'].nunique())\n",
    "# df3: 순수 고객데이터베이스\n",
    "df3 = df1[['COSMO ID', 'Gender', 'Last and First Name (Local)', 'Birthdate Year', 'Segment', 'Nationality', 'First Purchase Date', 'Last Purchase Date General', 'Lifetime Value (User Currency)']] #CRM ID blank생겨서 사용안함\n",
    "df3.drop_duplicates(subset=['COSMO ID'], keep='last', inplace=True, ignore_index=True)\n",
    "df3.shape #df2와 고객수 같은지 확인"
   ]
  },
  {
   "cell_type": "code",
   "execution_count": 24,
   "metadata": {},
   "outputs": [
    {
     "name": "stdout",
     "output_type": "stream",
     "text": [
      "<class 'pandas.core.frame.DataFrame'>\n",
      "Int64Index: 180825 entries, 0 to 180824\n",
      "Data columns (total 20 columns):\n",
      " #   Column                          Non-Null Count   Dtype         \n",
      "---  ------                          --------------   -----         \n",
      " 0   TIME-Year                       180825 non-null  int64         \n",
      " 1   TIME-Month                      180825 non-null  int64         \n",
      " 2   TIME-Date                       180825 non-null  datetime64[ns]\n",
      " 3   Purchase: Shop                  180825 non-null  object        \n",
      " 4   Main Client Advisor             180793 non-null  object        \n",
      " 5   COSMO ID                        180825 non-null  object        \n",
      " 6   Transaction Type Details        180825 non-null  object        \n",
      " 7   Sales ID BS                     180825 non-null  object        \n",
      " 8   MAT_Material(key)               180825 non-null  object        \n",
      " 9   UNIT SOLD                       180825 non-null  float64       \n",
      " 10  Discount %                      15964 non-null   float64       \n",
      " 11  NET VALUE                       180825 non-null  float64       \n",
      " 12  Gender                          178870 non-null  object        \n",
      " 13  Last and First Name (Local)     180738 non-null  object        \n",
      " 14  Birthdate Year                  66869 non-null   float64       \n",
      " 15  Segment                         173677 non-null  object        \n",
      " 16  Nationality                     143059 non-null  object        \n",
      " 17  First Purchase Date             180314 non-null  datetime64[ns]\n",
      " 18  Last Purchase Date General      180282 non-null  object        \n",
      " 19  Lifetime Value (User Currency)  180825 non-null  float64       \n",
      "dtypes: datetime64[ns](2), float64(5), int64(2), object(11)\n",
      "memory usage: 29.0+ MB\n"
     ]
    }
   ],
   "source": [
    "# 고객데이터 병합\n",
    "df4 = pd.merge(df2, df3, how='left', on = 'COSMO ID')\n",
    "df4.info()"
   ]
  },
  {
   "cell_type": "markdown",
   "metadata": {
    "tags": []
   },
   "source": [
    "#### 1-2) 실제 고객 분석에서 제외할 데이터 추가 편집\n",
    "1. **리턴 영수증 중 0 되는 것 삭제**\n",
    "    - 1. df raw data 단계에서 bs id & mat 기준 net value sum 0인것 제외 \n",
    "    - 2. cosmo id & mat 기준 groupby 한 후 net value sum 0 '미만'인거 제외\n",
    "    - 3. cosmo id & mat & TIME-Date기준 : 같은날 리턴해서 0되는것 제거 \n",
    "    - 5. 데이터 정렬 후, 리턴 영수증 위에행이랑 sales 합이 0이면 두 행 제거(리턴 하나전, 리턴 하나 뒤, 리턴 두개 뒤, 리턴 하나전 다시, 리턴 두개 전, 리턴 하나 뒤 다시)\n",
    "2. 세일즈, 수량 마이너스 고객 제외\n",
    "3. 고객 제외\n",
    "    - **비회원, 단체구매(SK) 제외, 수량 제일 많은(118개) 다이고 의심고객 제외** \n",
    "    - **별도의 파일 저장없이 Transaction 기준 장바구니 분석시에는 이거 살리고, 고객기준 장바구니 분석시에는 3번 코드 실행하여 제외**"
   ]
  },
  {
   "cell_type": "code",
   "execution_count": 25,
   "metadata": {
    "tags": []
   },
   "outputs": [
    {
     "data": {
      "text/plain": [
       "Transaction Type Details\n",
       "Retail-Mchdise sale     126421\n",
       "Retail-Return mchdse      9801\n",
       "Name: Sales ID BS, dtype: int64"
      ]
     },
     "execution_count": 25,
     "metadata": {},
     "output_type": "execute_result"
    }
   ],
   "source": [
    "df4.groupby(['Transaction Type Details'])['Sales ID BS'].nunique()"
   ]
  },
  {
   "cell_type": "markdown",
   "metadata": {
    "tags": []
   },
   "source": [
    "##### 1. 영수증 제외\n",
    "- df7: 티켓별 sum 0 \n",
    "- df8: 고객별 sum < 0"
   ]
  },
  {
   "cell_type": "code",
   "execution_count": 26,
   "metadata": {
    "tags": []
   },
   "outputs": [
    {
     "name": "stdout",
     "output_type": "stream",
     "text": [
      "180825\n"
     ]
    },
    {
     "data": {
      "text/plain": [
       "621517602183.0"
      ]
     },
     "execution_count": 26,
     "metadata": {},
     "output_type": "execute_result"
    }
   ],
   "source": [
    "df0 = df4.copy()\n",
    "print(len(df0))\n",
    "df0['NET VALUE'].sum() #삭제 전후 비교위해"
   ]
  },
  {
   "cell_type": "code",
   "execution_count": 27,
   "metadata": {},
   "outputs": [
    {
     "name": "stdout",
     "output_type": "stream",
     "text": [
      "2705\n",
      "2705\n"
     ]
    },
    {
     "data": {
      "text/plain": [
       "'0.00'"
      ]
     },
     "execution_count": 27,
     "metadata": {},
     "output_type": "execute_result"
    }
   ],
   "source": [
    "df7 = df0.groupby(['Sales ID BS', 'MAT_Material(key)'])['NET VALUE'].sum().sort_values().reset_index()\n",
    "df7 = df7[(df7['NET VALUE'] > -1) & (df7['NET VALUE'] < 1)] #net value sum 0(소수점때문에 범위로) \n",
    "print(len(df7))\n",
    "\n",
    "df7['key0'] = df7['Sales ID BS'] + df7['MAT_Material(key)']\n",
    "ticket7 = list(df7['key0'])\n",
    "print(len(ticket7))\n",
    "df0['key0'] = df0['Sales ID BS'] + df0['MAT_Material(key)']\n",
    "num0 = df0[df0['key0'].isin(ticket7)]['NET VALUE'].sum()\n",
    "f\"{num0:.2f}\" #0인지 확인하고 ticket7 제외할것"
   ]
  },
  {
   "cell_type": "code",
   "execution_count": 28,
   "metadata": {},
   "outputs": [
    {
     "name": "stdout",
     "output_type": "stream",
     "text": [
      "175371\n"
     ]
    },
    {
     "data": {
      "text/plain": [
       "621517602183.0"
      ]
     },
     "execution_count": 28,
     "metadata": {},
     "output_type": "execute_result"
    }
   ],
   "source": [
    "df0 = df0[~df0['key0'].isin(ticket7)]\n",
    "print(len(df0)) #영수증 제외 전후 비교\n",
    "df0['NET VALUE'].sum()"
   ]
  },
  {
   "cell_type": "code",
   "execution_count": 29,
   "metadata": {},
   "outputs": [
    {
     "name": "stdout",
     "output_type": "stream",
     "text": [
      "3815\n",
      "-391333390.0\n",
      "-391333390.00\n"
     ]
    }
   ],
   "source": [
    "df8 = df0.groupby(['COSMO ID', 'MAT_Material(key)'])['NET VALUE'].sum().reset_index()\n",
    "df8 = df8[(df8['NET VALUE'] <= 1)] #-1~1범위로 0 찾음, 2016년에 제품을 샀다가 리턴했으면 -세일즈 나옴 (보통 리턴 후 다른제품 구매) (df8['NET VALUE'] >= -1) & \n",
    "print(len(df8))\n",
    "print(df8[(df8['NET VALUE'] <= 1)]['NET VALUE'].sum()) #제외되는 금액\n",
    "\n",
    "df8['key'] = df8['COSMO ID'] + df8['MAT_Material(key)']\n",
    "ticket8 = list(df8['key'])\n",
    "df0['key'] = df0['COSMO ID'] + df0['MAT_Material(key)']\n",
    "num = df0[df0['key'].isin(ticket8)]['NET VALUE'].sum() #최종 db에서 제외되는 금액 확인\n",
    "print(f\"{num:.2f}\")"
   ]
  },
  {
   "cell_type": "code",
   "execution_count": 30,
   "metadata": {},
   "outputs": [
    {
     "name": "stdout",
     "output_type": "stream",
     "text": [
      "167352\n",
      "621908935573.0\n"
     ]
    }
   ],
   "source": [
    "df0 = df0[~df0['key'].isin(ticket8)]\n",
    "print(len(df0)) #약 8천개 미만의 행을 추가 삭제\n",
    "print(df0['NET VALUE'].sum()) #금액 전후 비교"
   ]
  },
  {
   "cell_type": "code",
   "execution_count": 31,
   "metadata": {},
   "outputs": [],
   "source": [
    "df0 = df0[df0.groupby(['COSMO ID', 'TIME-Date', 'MAT_Material(key)'])[\"NET VALUE\"].transform(sum) != 0] #같은날 리턴해서 0되는것 제거"
   ]
  },
  {
   "cell_type": "code",
   "execution_count": 32,
   "metadata": {},
   "outputs": [
    {
     "name": "stdout",
     "output_type": "stream",
     "text": [
      "165514\n",
      "621908935573.0\n"
     ]
    }
   ],
   "source": [
    "print(len(df0))\n",
    "print(df0['NET VALUE'].sum()) #리턴 편집전과 세일즈 토탈 금액 비교할것 "
   ]
  },
  {
   "cell_type": "code",
   "execution_count": 33,
   "metadata": {},
   "outputs": [
    {
     "name": "stdout",
     "output_type": "stream",
     "text": [
      "2\n",
      "2\n"
     ]
    },
    {
     "data": {
      "text/plain": [
       "'0.00'"
      ]
     },
     "execution_count": 33,
     "metadata": {},
     "output_type": "execute_result"
    }
   ],
   "source": [
    "# df0이 바뀌었기 때문에 한번 또돌림\n",
    "df7 = df0.groupby(['Sales ID BS', 'MAT_Material(key)'])['NET VALUE'].sum().sort_values().reset_index()\n",
    "df7 = df7[(df7['NET VALUE'] > -1) & (df7['NET VALUE'] < 1)] #net value sum 0(소수점때문에 범위로) \n",
    "print(len(df7))\n",
    "\n",
    "df7['key0'] = df7['Sales ID BS'] + df7['MAT_Material(key)']\n",
    "ticket7 = list(df7['key0'])\n",
    "print(len(ticket7))\n",
    "df0['key0'] = df0['Sales ID BS'] + df0['MAT_Material(key)']\n",
    "num0 = df0[df0['key0'].isin(ticket7)]['NET VALUE'].sum()\n",
    "f\"{num0:.2f}\" #0인지 확인하고 ticket7 제외할것"
   ]
  },
  {
   "cell_type": "code",
   "execution_count": 34,
   "metadata": {},
   "outputs": [
    {
     "name": "stdout",
     "output_type": "stream",
     "text": [
      "165510\n"
     ]
    },
    {
     "data": {
      "text/plain": [
       "621908935573.0"
      ]
     },
     "execution_count": 34,
     "metadata": {},
     "output_type": "execute_result"
    }
   ],
   "source": [
    "df0 = df0[~df0['key0'].isin(ticket7)]\n",
    "print(len(df0)) #영수증 아주 쪼금 제외 ㅎ\n",
    "df0['NET VALUE'].sum() #전후 금액 비교"
   ]
  },
  {
   "cell_type": "code",
   "execution_count": 35,
   "metadata": {
    "tags": []
   },
   "outputs": [],
   "source": [
    "# a = pd.pivot_table(df0, index=['COSMO ID', 'MAT_Material(key)'], columns='Transaction Type Details', values='Sales ID BS', aggfunc='count')\n",
    "# a[(a['Retail-Return mchdse']>=1)&(a['Retail-Mchdise sale']!=a['Retail-Return mchdse'])].sort_values(['Retail-Mchdise sale', 'Retail-Return mchdse']) #리턴이 포함되었으나 결국 세일즈 일으킨건, cf.같은 경우는 두건: 실제로 구매함\n",
    "# print(len(b)) #다른날 리턴한건 별로안되어서(110건) 패스하자(3건중 두건을 지우는 방법 잘 모르겠음)"
   ]
  },
  {
   "cell_type": "code",
   "execution_count": 36,
   "metadata": {},
   "outputs": [],
   "source": [
    "df0 = df0.sort_values(['COSMO ID', 'MAT_Material(key)', 'TIME-Date', 'Sales ID BS']).reset_index(drop=True) #리턴과 위에있는 세일즈 0될 경우 지우기 위해 정렬해줌"
   ]
  },
  {
   "cell_type": "code",
   "execution_count": 37,
   "metadata": {
    "tags": []
   },
   "outputs": [
    {
     "name": "stdout",
     "output_type": "stream",
     "text": [
      "Wall time: 15.5 s\n"
     ]
    },
    {
     "data": {
      "text/plain": [
       "[42, 45, 48, 51, 60]"
      ]
     },
     "execution_count": 37,
     "metadata": {},
     "output_type": "execute_result"
    }
   ],
   "source": [
    "%%time\n",
    "lst = []\n",
    "pre = []\n",
    "for index, row in df0.iterrows():\n",
    "    if row['Transaction Type Details'] == 'Retail-Return mchdse': \n",
    "        if row['NET VALUE'] + df0.loc[index-1, 'NET VALUE'] == 0: #리턴 이전 행과 합이 0\n",
    "            idx = index\n",
    "            preidx = index-1\n",
    "            lst.append(idx)\n",
    "            pre.append(preidx)\n",
    "result = lst + pre\n",
    "result[:5]"
   ]
  },
  {
   "cell_type": "code",
   "execution_count": 38,
   "metadata": {},
   "outputs": [
    {
     "data": {
      "text/plain": [
       "0.0"
      ]
     },
     "execution_count": 38,
     "metadata": {},
     "output_type": "execute_result"
    }
   ],
   "source": [
    "df0[df0.index.isin(result)]['NET VALUE'].sum()"
   ]
  },
  {
   "cell_type": "code",
   "execution_count": 39,
   "metadata": {
    "tags": []
   },
   "outputs": [
    {
     "name": "stdout",
     "output_type": "stream",
     "text": [
      "158330\n"
     ]
    },
    {
     "data": {
      "text/plain": [
       "621908935573.0"
      ]
     },
     "execution_count": 39,
     "metadata": {},
     "output_type": "execute_result"
    }
   ],
   "source": [
    "df0 = df0[~df0.index.isin(result)]\n",
    "print(len(df0))\n",
    "df0['NET VALUE'].sum() #야호 감동의 눈물 ㅠ.ㅠ원하는거 거의 근접하게 지움 ㅎㅎ"
   ]
  },
  {
   "cell_type": "code",
   "execution_count": 40,
   "metadata": {},
   "outputs": [
    {
     "data": {
      "text/plain": [
       "Transaction Type Details\n",
       "Retail-Mchdise sale     118609\n",
       "Retail-Return mchdse       931\n",
       "Name: Sales ID BS, dtype: int64"
      ]
     },
     "execution_count": 40,
     "metadata": {},
     "output_type": "execute_result"
    }
   ],
   "source": [
    "df0.groupby(['Transaction Type Details'])['Sales ID BS'].nunique() #리턴 편집전후로 여기서 가장 많이 줄어듬"
   ]
  },
  {
   "cell_type": "code",
   "execution_count": 41,
   "metadata": {},
   "outputs": [],
   "source": [
    "df0 = df0.reset_index(drop=True) #혹시 몰라 인덱스 모두 1차이 나도록 리셋"
   ]
  },
  {
   "cell_type": "code",
   "execution_count": 42,
   "metadata": {
    "tags": []
   },
   "outputs": [
    {
     "name": "stdout",
     "output_type": "stream",
     "text": [
      "Wall time: 15.2 s\n"
     ]
    },
    {
     "data": {
      "text/plain": [
       "[652, 818, 1416, 1419, 1476]"
      ]
     },
     "execution_count": 42,
     "metadata": {},
     "output_type": "execute_result"
    }
   ],
   "source": [
    "%%time\n",
    "lst = []\n",
    "aft = []\n",
    "for index, row in df0.iterrows():\n",
    "    if row['Transaction Type Details'] == 'Retail-Return mchdse':\n",
    "        if row['NET VALUE'] + df0.loc[index+1, 'NET VALUE'] == 0: #리턴 이후 행과 합이 0\n",
    "            idx = index\n",
    "            aftidx = index+1\n",
    "            lst.append(idx)\n",
    "            aft.append(aftidx)\n",
    "result = lst + aft\n",
    "result[:5]"
   ]
  },
  {
   "cell_type": "code",
   "execution_count": 43,
   "metadata": {},
   "outputs": [
    {
     "data": {
      "text/plain": [
       "0.0"
      ]
     },
     "execution_count": 43,
     "metadata": {},
     "output_type": "execute_result"
    }
   ],
   "source": [
    "df0[df0.index.isin(result)]['NET VALUE'].sum()"
   ]
  },
  {
   "cell_type": "code",
   "execution_count": 44,
   "metadata": {
    "tags": []
   },
   "outputs": [
    {
     "name": "stdout",
     "output_type": "stream",
     "text": [
      "156362\n"
     ]
    },
    {
     "data": {
      "text/plain": [
       "621908935573.0"
      ]
     },
     "execution_count": 44,
     "metadata": {},
     "output_type": "execute_result"
    }
   ],
   "source": [
    "df0 = df0[~df0.index.isin(result)]\n",
    "print(len(df0))\n",
    "df0['NET VALUE'].sum() #야호 감동의 눈물 ㅠ.ㅠ원하는거 거의 근접하게 지움 ㅎㅎ"
   ]
  },
  {
   "cell_type": "code",
   "execution_count": 45,
   "metadata": {},
   "outputs": [
    {
     "data": {
      "text/plain": [
       "Transaction Type Details\n",
       "Retail-Mchdise sale     117966\n",
       "Retail-Return mchdse       113\n",
       "Name: Sales ID BS, dtype: int64"
      ]
     },
     "execution_count": 45,
     "metadata": {},
     "output_type": "execute_result"
    }
   ],
   "source": [
    "df0.groupby(['Transaction Type Details'])['Sales ID BS'].nunique() #리턴 편집전과 세일즈&리턴영수증 개수 비교"
   ]
  },
  {
   "cell_type": "code",
   "execution_count": 46,
   "metadata": {},
   "outputs": [],
   "source": [
    "df0 = df0.reset_index(drop=True) #혹시 몰라 인덱스 모두 1차이 나도록 리셋"
   ]
  },
  {
   "cell_type": "code",
   "execution_count": 47,
   "metadata": {
    "tags": []
   },
   "outputs": [
    {
     "name": "stdout",
     "output_type": "stream",
     "text": [
      "Wall time: 15 s\n"
     ]
    },
    {
     "data": {
      "text/plain": [
       "[576, 2272, 4317, 6829, 9092]"
      ]
     },
     "execution_count": 47,
     "metadata": {},
     "output_type": "execute_result"
    }
   ],
   "source": [
    "%%time\n",
    "lst = []\n",
    "aft = []\n",
    "for index, row in df0.iterrows():\n",
    "    if row['Transaction Type Details'] == 'Retail-Return mchdse':\n",
    "        if row['NET VALUE'] + df0.loc[index+2, 'NET VALUE'] == 0: #리턴 이후 다다음 행과 합이 0 (보통 가격인상전 디파짓걸어놓고 세일즈 클로징할때임)\n",
    "            idx = index\n",
    "            aftidx = index+2\n",
    "            lst.append(idx)\n",
    "            aft.append(aftidx)\n",
    "result = lst + aft\n",
    "result[:5]"
   ]
  },
  {
   "cell_type": "code",
   "execution_count": 48,
   "metadata": {},
   "outputs": [
    {
     "data": {
      "text/plain": [
       "0.0"
      ]
     },
     "execution_count": 48,
     "metadata": {},
     "output_type": "execute_result"
    }
   ],
   "source": [
    "df0[df0.index.isin(result)]['NET VALUE'].sum()"
   ]
  },
  {
   "cell_type": "code",
   "execution_count": 49,
   "metadata": {
    "tags": []
   },
   "outputs": [
    {
     "name": "stdout",
     "output_type": "stream",
     "text": [
      "156192\n"
     ]
    },
    {
     "data": {
      "text/plain": [
       "621908935573.0"
      ]
     },
     "execution_count": 49,
     "metadata": {},
     "output_type": "execute_result"
    }
   ],
   "source": [
    "df0 = df0[~df0.index.isin(result)]\n",
    "print(len(df0))\n",
    "df0['NET VALUE'].sum() #세일즈는 계속 똑같은지 비교"
   ]
  },
  {
   "cell_type": "code",
   "execution_count": 50,
   "metadata": {},
   "outputs": [
    {
     "data": {
      "text/plain": [
       "Transaction Type Details\n",
       "Retail-Mchdise sale     117918\n",
       "Retail-Return mchdse        45\n",
       "Name: Sales ID BS, dtype: int64"
      ]
     },
     "execution_count": 50,
     "metadata": {},
     "output_type": "execute_result"
    }
   ],
   "source": [
    "df0.groupby(['Transaction Type Details'])['Sales ID BS'].nunique() #리턴 편집전과 세일즈&리턴영수증 개수 비교"
   ]
  },
  {
   "cell_type": "code",
   "execution_count": 51,
   "metadata": {},
   "outputs": [],
   "source": [
    "df0 = df0.reset_index(drop=True)"
   ]
  },
  {
   "cell_type": "code",
   "execution_count": 52,
   "metadata": {
    "tags": []
   },
   "outputs": [
    {
     "name": "stdout",
     "output_type": "stream",
     "text": [
      "Wall time: 14.2 s\n"
     ]
    },
    {
     "data": {
      "text/plain": [
       "[10119, 15229, 19611, 35158, 35161]"
      ]
     },
     "execution_count": 52,
     "metadata": {},
     "output_type": "execute_result"
    }
   ],
   "source": [
    "%%time\n",
    "lst = []\n",
    "pre = []\n",
    "for index, row in df0.iterrows():\n",
    "    if row['Transaction Type Details'] == 'Retail-Return mchdse': \n",
    "        if row['NET VALUE'] + df0.loc[index-1, 'NET VALUE'] == 0: #리턴 이전 행과 합이 0 다시한번\n",
    "            idx = index\n",
    "            preidx = index-1\n",
    "            lst.append(idx)\n",
    "            pre.append(preidx)\n",
    "result = lst + pre\n",
    "result[:5]"
   ]
  },
  {
   "cell_type": "code",
   "execution_count": 53,
   "metadata": {},
   "outputs": [
    {
     "data": {
      "text/plain": [
       "0.0"
      ]
     },
     "execution_count": 53,
     "metadata": {},
     "output_type": "execute_result"
    }
   ],
   "source": [
    "df0[df0.index.isin(result)]['NET VALUE'].sum()"
   ]
  },
  {
   "cell_type": "code",
   "execution_count": 54,
   "metadata": {
    "tags": []
   },
   "outputs": [
    {
     "name": "stdout",
     "output_type": "stream",
     "text": [
      "156144\n"
     ]
    },
    {
     "data": {
      "text/plain": [
       "621908935573.0"
      ]
     },
     "execution_count": 54,
     "metadata": {},
     "output_type": "execute_result"
    }
   ],
   "source": [
    "df0 = df0[~df0.index.isin(result)]\n",
    "print(len(df0))\n",
    "df0['NET VALUE'].sum() #세일즈는 계속 똑같은지 비교"
   ]
  },
  {
   "cell_type": "code",
   "execution_count": 55,
   "metadata": {},
   "outputs": [
    {
     "data": {
      "text/plain": [
       "Transaction Type Details\n",
       "Retail-Mchdise sale     117905\n",
       "Retail-Return mchdse        26\n",
       "Name: Sales ID BS, dtype: int64"
      ]
     },
     "execution_count": 55,
     "metadata": {},
     "output_type": "execute_result"
    }
   ],
   "source": [
    "df0.groupby(['Transaction Type Details'])['Sales ID BS'].nunique() #ㅋㅋ대박 다 지운듯"
   ]
  },
  {
   "cell_type": "code",
   "execution_count": 56,
   "metadata": {},
   "outputs": [],
   "source": [
    "df0 = df0.reset_index(drop=True)"
   ]
  },
  {
   "cell_type": "code",
   "execution_count": 57,
   "metadata": {
    "tags": []
   },
   "outputs": [
    {
     "name": "stdout",
     "output_type": "stream",
     "text": [
      "Wall time: 14.4 s\n"
     ]
    },
    {
     "data": {
      "text/plain": [
       "[11403, 25584, 28121, 29241, 37978]"
      ]
     },
     "execution_count": 57,
     "metadata": {},
     "output_type": "execute_result"
    }
   ],
   "source": [
    "%%time\n",
    "lst = []\n",
    "pre = []\n",
    "for index, row in df0.iterrows():\n",
    "    if row['Transaction Type Details'] == 'Retail-Return mchdse': \n",
    "        if row['NET VALUE'] + df0.loc[index-2, 'NET VALUE'] == 0: #리턴 전전 행과 합이 0\n",
    "            idx = index\n",
    "            preidx = index-2\n",
    "            lst.append(idx)\n",
    "            pre.append(preidx)\n",
    "result = lst + pre\n",
    "result[:5]"
   ]
  },
  {
   "cell_type": "code",
   "execution_count": 58,
   "metadata": {},
   "outputs": [
    {
     "data": {
      "text/plain": [
       "0.0"
      ]
     },
     "execution_count": 58,
     "metadata": {},
     "output_type": "execute_result"
    }
   ],
   "source": [
    "df0[df0.index.isin(result)]['NET VALUE'].sum()"
   ]
  },
  {
   "cell_type": "code",
   "execution_count": 59,
   "metadata": {
    "tags": []
   },
   "outputs": [
    {
     "name": "stdout",
     "output_type": "stream",
     "text": [
      "156102\n"
     ]
    },
    {
     "data": {
      "text/plain": [
       "621908935573.0"
      ]
     },
     "execution_count": 59,
     "metadata": {},
     "output_type": "execute_result"
    }
   ],
   "source": [
    "df0 = df0[~df0.index.isin(result)]\n",
    "print(len(df0))\n",
    "df0['NET VALUE'].sum() #세일즈는 계속 똑같은지 비교"
   ]
  },
  {
   "cell_type": "code",
   "execution_count": 60,
   "metadata": {},
   "outputs": [
    {
     "data": {
      "text/plain": [
       "Transaction Type Details\n",
       "Retail-Mchdise sale     117890\n",
       "Retail-Return mchdse         7\n",
       "Name: Sales ID BS, dtype: int64"
      ]
     },
     "execution_count": 60,
     "metadata": {},
     "output_type": "execute_result"
    }
   ],
   "source": [
    "df0.groupby(['Transaction Type Details'])['Sales ID BS'].nunique() #ㅋㅋ대박 다 지운듯"
   ]
  },
  {
   "cell_type": "code",
   "execution_count": 61,
   "metadata": {},
   "outputs": [],
   "source": [
    "df0 = df0.reset_index(drop=True) #혹시 몰라 인덱스 모두 1차이 나도록 리셋"
   ]
  },
  {
   "cell_type": "code",
   "execution_count": 62,
   "metadata": {
    "tags": []
   },
   "outputs": [
    {
     "name": "stdout",
     "output_type": "stream",
     "text": [
      "Wall time: 13.7 s\n"
     ]
    },
    {
     "data": {
      "text/plain": [
       "[86866, 86869, 86867, 86870]"
      ]
     },
     "execution_count": 62,
     "metadata": {},
     "output_type": "execute_result"
    }
   ],
   "source": [
    "%%time\n",
    "lst = []\n",
    "aft = []\n",
    "for index, row in df0.iterrows():\n",
    "    if row['Transaction Type Details'] == 'Retail-Return mchdse':\n",
    "        if row['NET VALUE'] + df0.loc[index+1, 'NET VALUE'] == 0: #리턴 이후 행과 합이 0\n",
    "            idx = index\n",
    "            aftidx = index+1\n",
    "            lst.append(idx)\n",
    "            aft.append(aftidx)\n",
    "result = lst + aft\n",
    "result[:5]"
   ]
  },
  {
   "cell_type": "code",
   "execution_count": 63,
   "metadata": {},
   "outputs": [
    {
     "data": {
      "text/plain": [
       "0.0"
      ]
     },
     "execution_count": 63,
     "metadata": {},
     "output_type": "execute_result"
    }
   ],
   "source": [
    "df0[df0.index.isin(result)]['NET VALUE'].sum()"
   ]
  },
  {
   "cell_type": "code",
   "execution_count": 64,
   "metadata": {
    "tags": []
   },
   "outputs": [
    {
     "name": "stdout",
     "output_type": "stream",
     "text": [
      "156098\n"
     ]
    },
    {
     "data": {
      "text/plain": [
       "621908935573.0"
      ]
     },
     "execution_count": 64,
     "metadata": {},
     "output_type": "execute_result"
    }
   ],
   "source": [
    "df0 = df0[~df0.index.isin(result)]\n",
    "print(len(df0))\n",
    "df0['NET VALUE'].sum() #야호 감동의 눈물 ㅠ.ㅠ원하는거 거의 근접하게 지움 ㅎㅎ"
   ]
  },
  {
   "cell_type": "code",
   "execution_count": 65,
   "metadata": {},
   "outputs": [
    {
     "data": {
      "text/plain": [
       "Transaction Type Details\n",
       "Retail-Mchdise sale     117889\n",
       "Retail-Return mchdse         6\n",
       "Name: Sales ID BS, dtype: int64"
      ]
     },
     "execution_count": 65,
     "metadata": {},
     "output_type": "execute_result"
    }
   ],
   "source": [
    "df0.groupby(['Transaction Type Details'])['Sales ID BS'].nunique() #리턴 편집전과 세일즈&리턴영수증 개수 각각 6천개씩 줄임!"
   ]
  },
  {
   "cell_type": "code",
   "execution_count": 66,
   "metadata": {
    "tags": []
   },
   "outputs": [
    {
     "data": {
      "text/html": [
       "<div>\n",
       "<style scoped>\n",
       "    .dataframe tbody tr th:only-of-type {\n",
       "        vertical-align: middle;\n",
       "    }\n",
       "\n",
       "    .dataframe tbody tr th {\n",
       "        vertical-align: top;\n",
       "    }\n",
       "\n",
       "    .dataframe thead th {\n",
       "        text-align: right;\n",
       "    }\n",
       "</style>\n",
       "<table border=\"1\" class=\"dataframe\">\n",
       "  <thead>\n",
       "    <tr style=\"text-align: right;\">\n",
       "      <th></th>\n",
       "      <th>TIME-Year</th>\n",
       "      <th>TIME-Month</th>\n",
       "      <th>TIME-Date</th>\n",
       "      <th>Purchase: Shop</th>\n",
       "      <th>Main Client Advisor</th>\n",
       "      <th>COSMO ID</th>\n",
       "      <th>Transaction Type Details</th>\n",
       "      <th>Sales ID BS</th>\n",
       "      <th>MAT_Material(key)</th>\n",
       "      <th>UNIT SOLD</th>\n",
       "      <th>Discount %</th>\n",
       "      <th>NET VALUE</th>\n",
       "      <th>Gender</th>\n",
       "      <th>Last and First Name (Local)</th>\n",
       "      <th>Birthdate Year</th>\n",
       "      <th>Segment</th>\n",
       "      <th>Nationality</th>\n",
       "      <th>First Purchase Date</th>\n",
       "      <th>Last Purchase Date General</th>\n",
       "      <th>Lifetime Value (User Currency)</th>\n",
       "      <th>key0</th>\n",
       "      <th>key</th>\n",
       "    </tr>\n",
       "  </thead>\n",
       "  <tbody>\n",
       "    <tr>\n",
       "      <th>3078</th>\n",
       "      <td>2019</td>\n",
       "      <td>3</td>\n",
       "      <td>2019-03-03</td>\n",
       "      <td>Shinsegae Department Store Gyeonggi</td>\n",
       "      <td>Younghyun Lee</td>\n",
       "      <td>0014H00001iO7qcQAC</td>\n",
       "      <td>Retail-Return mchdse</td>\n",
       "      <td>055801000015776</td>\n",
       "      <td>341820</td>\n",
       "      <td>1.000</td>\n",
       "      <td>NaN</td>\n",
       "      <td>-2450000.000</td>\n",
       "      <td>Female</td>\n",
       "      <td>황인선</td>\n",
       "      <td>1983.000</td>\n",
       "      <td>High Potential</td>\n",
       "      <td>Korean (KR)-South Korea</td>\n",
       "      <td>2019-03-03</td>\n",
       "      <td>2019. 3. 3</td>\n",
       "      <td>4840000.000</td>\n",
       "      <td>055801000015776341820</td>\n",
       "      <td>0014H00001iO7qcQAC341820</td>\n",
       "    </tr>\n",
       "    <tr>\n",
       "      <th>7911</th>\n",
       "      <td>2021</td>\n",
       "      <td>7</td>\n",
       "      <td>2021-07-03</td>\n",
       "      <td>Pangyo Hyundai</td>\n",
       "      <td>Lee Kiwoo</td>\n",
       "      <td>0014H00001krJiwQAE</td>\n",
       "      <td>Retail-Return mchdse</td>\n",
       "      <td>053602000009744</td>\n",
       "      <td>357573</td>\n",
       "      <td>1.000</td>\n",
       "      <td>0.030</td>\n",
       "      <td>-10476000.000</td>\n",
       "      <td>Male</td>\n",
       "      <td>장석우</td>\n",
       "      <td>NaN</td>\n",
       "      <td>Elite</td>\n",
       "      <td>Korean (KR)-South Korea</td>\n",
       "      <td>2019-05-25</td>\n",
       "      <td>2021. 7. 3</td>\n",
       "      <td>26480000.000</td>\n",
       "      <td>053602000009744357573</td>\n",
       "      <td>0014H00001krJiwQAE357573</td>\n",
       "    </tr>\n",
       "    <tr>\n",
       "      <th>83808</th>\n",
       "      <td>2021</td>\n",
       "      <td>11</td>\n",
       "      <td>2021-11-26</td>\n",
       "      <td>Shinsegae Deparment Store Gangnam</td>\n",
       "      <td>Munhyang Yoon</td>\n",
       "      <td>0014K00000QkkngQAB</td>\n",
       "      <td>Retail-Return mchdse</td>\n",
       "      <td>059802000066477</td>\n",
       "      <td>339981</td>\n",
       "      <td>1.000</td>\n",
       "      <td>NaN</td>\n",
       "      <td>-2860000.000</td>\n",
       "      <td>Male</td>\n",
       "      <td>김명진</td>\n",
       "      <td>1989.000</td>\n",
       "      <td>Premium</td>\n",
       "      <td>Korean (KR)-South Korea</td>\n",
       "      <td>2021-10-17</td>\n",
       "      <td>2021. 11. 26</td>\n",
       "      <td>5600000.000</td>\n",
       "      <td>059802000066477339981</td>\n",
       "      <td>0014K00000QkkngQAB339981</td>\n",
       "    </tr>\n",
       "    <tr>\n",
       "      <th>111118</th>\n",
       "      <td>2017</td>\n",
       "      <td>2</td>\n",
       "      <td>2017-02-11</td>\n",
       "      <td>Lotte Department Store Gwangju</td>\n",
       "      <td>JIAE PARK (602146)</td>\n",
       "      <td>0015800000w4iaJAAQ</td>\n",
       "      <td>Retail-Return mchdse</td>\n",
       "      <td>057201000010688</td>\n",
       "      <td>351117</td>\n",
       "      <td>1.000</td>\n",
       "      <td>0.100</td>\n",
       "      <td>-3510000.000</td>\n",
       "      <td>Male</td>\n",
       "      <td>장주호</td>\n",
       "      <td>1965.000</td>\n",
       "      <td>Top</td>\n",
       "      <td>Korean (KR)-South Korea</td>\n",
       "      <td>2006-09-20</td>\n",
       "      <td>2021. 11. 20</td>\n",
       "      <td>408401387.390</td>\n",
       "      <td>057201000010688351117</td>\n",
       "      <td>0015800000w4iaJAAQ351117</td>\n",
       "    </tr>\n",
       "    <tr>\n",
       "      <th>115260</th>\n",
       "      <td>2017</td>\n",
       "      <td>1</td>\n",
       "      <td>2017-01-24</td>\n",
       "      <td>Hyundai Department Store Mokdong</td>\n",
       "      <td>Sunmin Lim(0000015065)</td>\n",
       "      <td>0015800000wU1SyAAK</td>\n",
       "      <td>Retail-Return mchdse</td>\n",
       "      <td>057102000020273</td>\n",
       "      <td>349710</td>\n",
       "      <td>1.000</td>\n",
       "      <td>0.030</td>\n",
       "      <td>-5820000.000</td>\n",
       "      <td>Female</td>\n",
       "      <td>장홍자</td>\n",
       "      <td>NaN</td>\n",
       "      <td>Dormant</td>\n",
       "      <td>NaN</td>\n",
       "      <td>2006-10-12</td>\n",
       "      <td>2017. 1. 24</td>\n",
       "      <td>8067996.720</td>\n",
       "      <td>057102000020273349710</td>\n",
       "      <td>0015800000wU1SyAAK349710</td>\n",
       "    </tr>\n",
       "    <tr>\n",
       "      <th>127706</th>\n",
       "      <td>2020</td>\n",
       "      <td>9</td>\n",
       "      <td>2020-09-29</td>\n",
       "      <td>Pangyo Hyundai</td>\n",
       "      <td>Utenza TBR</td>\n",
       "      <td>0015800000z8vxWAAQ</td>\n",
       "      <td>Retail-Return mchdse</td>\n",
       "      <td>053601000008084</td>\n",
       "      <td>335992</td>\n",
       "      <td>1.000</td>\n",
       "      <td>NaN</td>\n",
       "      <td>-954000.000</td>\n",
       "      <td>Female</td>\n",
       "      <td>불가리고객</td>\n",
       "      <td>1979.000</td>\n",
       "      <td>Top</td>\n",
       "      <td>Korean (KR)-South Korea</td>\n",
       "      <td>2005-09-08</td>\n",
       "      <td>2011. 9. 30</td>\n",
       "      <td>3283541946.930</td>\n",
       "      <td>053601000008084335992</td>\n",
       "      <td>0015800000z8vxWAAQ335992</td>\n",
       "    </tr>\n",
       "  </tbody>\n",
       "</table>\n",
       "</div>"
      ],
      "text/plain": [
       "        TIME-Year  TIME-Month  TIME-Date                       Purchase: Shop  \\\n",
       "3078         2019           3 2019-03-03  Shinsegae Department Store Gyeonggi   \n",
       "7911         2021           7 2021-07-03                       Pangyo Hyundai   \n",
       "83808        2021          11 2021-11-26    Shinsegae Deparment Store Gangnam   \n",
       "111118       2017           2 2017-02-11       Lotte Department Store Gwangju   \n",
       "115260       2017           1 2017-01-24     Hyundai Department Store Mokdong   \n",
       "127706       2020           9 2020-09-29                       Pangyo Hyundai   \n",
       "\n",
       "           Main Client Advisor            COSMO ID Transaction Type Details  \\\n",
       "3078             Younghyun Lee  0014H00001iO7qcQAC     Retail-Return mchdse   \n",
       "7911                 Lee Kiwoo  0014H00001krJiwQAE     Retail-Return mchdse   \n",
       "83808            Munhyang Yoon  0014K00000QkkngQAB     Retail-Return mchdse   \n",
       "111118      JIAE PARK (602146)  0015800000w4iaJAAQ     Retail-Return mchdse   \n",
       "115260  Sunmin Lim(0000015065)  0015800000wU1SyAAK     Retail-Return mchdse   \n",
       "127706              Utenza TBR  0015800000z8vxWAAQ     Retail-Return mchdse   \n",
       "\n",
       "            Sales ID BS MAT_Material(key)  UNIT SOLD  Discount %  \\\n",
       "3078    055801000015776            341820      1.000         NaN   \n",
       "7911    053602000009744            357573      1.000       0.030   \n",
       "83808   059802000066477            339981      1.000         NaN   \n",
       "111118  057201000010688            351117      1.000       0.100   \n",
       "115260  057102000020273            349710      1.000       0.030   \n",
       "127706  053601000008084            335992      1.000         NaN   \n",
       "\n",
       "           NET VALUE  Gender Last and First Name (Local)  Birthdate Year  \\\n",
       "3078    -2450000.000  Female                         황인선        1983.000   \n",
       "7911   -10476000.000    Male                         장석우             NaN   \n",
       "83808   -2860000.000    Male                         김명진        1989.000   \n",
       "111118  -3510000.000    Male                         장주호        1965.000   \n",
       "115260  -5820000.000  Female                         장홍자             NaN   \n",
       "127706   -954000.000  Female                       불가리고객        1979.000   \n",
       "\n",
       "               Segment              Nationality First Purchase Date  \\\n",
       "3078    High Potential  Korean (KR)-South Korea          2019-03-03   \n",
       "7911             Elite  Korean (KR)-South Korea          2019-05-25   \n",
       "83808          Premium  Korean (KR)-South Korea          2021-10-17   \n",
       "111118             Top  Korean (KR)-South Korea          2006-09-20   \n",
       "115260         Dormant                      NaN          2006-10-12   \n",
       "127706             Top  Korean (KR)-South Korea          2005-09-08   \n",
       "\n",
       "       Last Purchase Date General  Lifetime Value (User Currency)  \\\n",
       "3078                   2019. 3. 3                     4840000.000   \n",
       "7911                   2021. 7. 3                    26480000.000   \n",
       "83808                2021. 11. 26                     5600000.000   \n",
       "111118               2021. 11. 20                   408401387.390   \n",
       "115260                2017. 1. 24                     8067996.720   \n",
       "127706                2011. 9. 30                  3283541946.930   \n",
       "\n",
       "                         key0                       key  \n",
       "3078    055801000015776341820  0014H00001iO7qcQAC341820  \n",
       "7911    053602000009744357573  0014H00001krJiwQAE357573  \n",
       "83808   059802000066477339981  0014K00000QkkngQAB339981  \n",
       "111118  057201000010688351117  0015800000w4iaJAAQ351117  \n",
       "115260  057102000020273349710  0015800000wU1SyAAK349710  \n",
       "127706  053601000008084335992  0015800000z8vxWAAQ335992  "
      ]
     },
     "execution_count": 66,
     "metadata": {},
     "output_type": "execute_result"
    }
   ],
   "source": [
    "df0[df0['Transaction Type Details']=='Retail-Return mchdse']"
   ]
  },
  {
   "cell_type": "code",
   "execution_count": 67,
   "metadata": {},
   "outputs": [
    {
     "name": "stdout",
     "output_type": "stream",
     "text": [
      "<class 'pandas.core.frame.DataFrame'>\n",
      "Int64Index: 156098 entries, 0 to 156101\n",
      "Data columns (total 20 columns):\n",
      " #   Column                          Non-Null Count   Dtype         \n",
      "---  ------                          --------------   -----         \n",
      " 0   TIME-Year                       156098 non-null  int64         \n",
      " 1   TIME-Month                      156098 non-null  int64         \n",
      " 2   TIME-Date                       156098 non-null  datetime64[ns]\n",
      " 3   Purchase: Shop                  156098 non-null  object        \n",
      " 4   Main Client Advisor             156070 non-null  object        \n",
      " 5   COSMO ID                        156098 non-null  object        \n",
      " 6   Transaction Type Details        156098 non-null  object        \n",
      " 7   Sales ID BS                     156098 non-null  object        \n",
      " 8   MAT_Material(key)               156098 non-null  object        \n",
      " 9   UNIT SOLD                       156098 non-null  float64       \n",
      " 10  Discount %                      12921 non-null   float64       \n",
      " 11  NET VALUE                       156098 non-null  float64       \n",
      " 12  Gender                          154421 non-null  object        \n",
      " 13  Last and First Name (Local)     156043 non-null  object        \n",
      " 14  Birthdate Year                  57006 non-null   float64       \n",
      " 15  Segment                         149826 non-null  object        \n",
      " 16  Nationality                     124505 non-null  object        \n",
      " 17  First Purchase Date             155660 non-null  datetime64[ns]\n",
      " 18  Last Purchase Date General      155634 non-null  object        \n",
      " 19  Lifetime Value (User Currency)  156098 non-null  float64       \n",
      "dtypes: datetime64[ns](2), float64(5), int64(2), object(11)\n",
      "memory usage: 25.0+ MB\n"
     ]
    }
   ],
   "source": [
    "df0 = df0.drop(['key0','key'], axis=1) #컬럼 삭제\n",
    "df0.info()"
   ]
  },
  {
   "cell_type": "code",
   "execution_count": 68,
   "metadata": {},
   "outputs": [
    {
     "data": {
      "text/plain": [
       "TIME-Year                              0\n",
       "TIME-Month                             0\n",
       "TIME-Date                              0\n",
       "Purchase: Shop                         0\n",
       "Main Client Advisor                   28\n",
       "COSMO ID                               0\n",
       "Transaction Type Details               0\n",
       "Sales ID BS                            0\n",
       "MAT_Material(key)                      0\n",
       "UNIT SOLD                              0\n",
       "Discount %                        143177\n",
       "NET VALUE                              0\n",
       "Gender                              1677\n",
       "Last and First Name (Local)           55\n",
       "Birthdate Year                     99092\n",
       "Segment                             6272\n",
       "Nationality                        31593\n",
       "First Purchase Date                  438\n",
       "Last Purchase Date General           464\n",
       "Lifetime Value (User Currency)         0\n",
       "dtype: int64"
      ]
     },
     "execution_count": 68,
     "metadata": {},
     "output_type": "execute_result"
    }
   ],
   "source": [
    "#영수증 미맵핑 고객아이디 처리 >> groupby 인덱스칼럼에 null있으면 집계결과에 포함 안됨\n",
    "df0.isnull().sum()"
   ]
  },
  {
   "cell_type": "code",
   "execution_count": 69,
   "metadata": {},
   "outputs": [],
   "source": [
    "#영수증 미맵핑 고객아이디 처리 >> groupby 인덱스칼럼에 null있으면 집계결과에 포함 안됨\n",
    "df0['COSMO ID'] = df0['COSMO ID'].fillna('Not assigned') \n",
    "df0.loc[df0[df0['Gender'].isnull()].index, 'Gender'] = 'Not assigned'\n",
    "df0.loc[df0[df0['Last and First Name (Local)'].isnull()].index, 'Last and First Name (Local)'] = 'Not assigned'\n",
    "df0.loc[df0[df0['Birthdate Year'].isnull()].index, 'Birthdate Year'] = 'Not assigned'\n",
    "df0.loc[df0[df0['Segment'].isnull()].index, 'Segment'] = 'Not assigned'\n",
    "df0.loc[df0[df0['Nationality'].isnull()].index, 'Nationality'] = 'Not assigned'\n",
    "df0.loc[df0[df0['First Purchase Date'].isnull()].index, 'First Purchase Date'] = 'Not assigned'\n",
    "df0.loc[df0[df0['Last Purchase Date General'].isnull()].index, 'Last Purchase Date General'] = 'Not assigned'\n",
    "# df0.loc[df0[df0['Lifetime Value (User Currency)'].isnull()].index, 'Lifetime Value (User Currency)'] = 'Not Assigned'"
   ]
  },
  {
   "cell_type": "code",
   "execution_count": 70,
   "metadata": {
    "tags": []
   },
   "outputs": [
    {
     "name": "stdout",
     "output_type": "stream",
     "text": [
      "<class 'pandas.core.frame.DataFrame'>\n",
      "Int64Index: 156098 entries, 0 to 156101\n",
      "Data columns (total 20 columns):\n",
      " #   Column                          Non-Null Count   Dtype         \n",
      "---  ------                          --------------   -----         \n",
      " 0   TIME-Year                       156098 non-null  int64         \n",
      " 1   TIME-Month                      156098 non-null  int64         \n",
      " 2   TIME-Date                       156098 non-null  datetime64[ns]\n",
      " 3   Purchase: Shop                  156098 non-null  object        \n",
      " 4   Main Client Advisor             156070 non-null  object        \n",
      " 5   COSMO ID                        156098 non-null  object        \n",
      " 6   Transaction Type Details        156098 non-null  object        \n",
      " 7   Sales ID BS                     156098 non-null  object        \n",
      " 8   MAT_Material(key)               156098 non-null  object        \n",
      " 9   UNIT SOLD                       156098 non-null  float64       \n",
      " 10  Discount %                      12921 non-null   float64       \n",
      " 11  NET VALUE                       156098 non-null  float64       \n",
      " 12  Gender                          156098 non-null  object        \n",
      " 13  Last and First Name (Local)     156098 non-null  object        \n",
      " 14  Birthdate Year                  156098 non-null  object        \n",
      " 15  Segment                         156098 non-null  object        \n",
      " 16  Nationality                     156098 non-null  object        \n",
      " 17  First Purchase Date             156098 non-null  object        \n",
      " 18  Last Purchase Date General      156098 non-null  object        \n",
      " 19  Lifetime Value (User Currency)  156098 non-null  float64       \n",
      "dtypes: datetime64[ns](1), float64(4), int64(2), object(13)\n",
      "memory usage: 29.0+ MB\n"
     ]
    }
   ],
   "source": [
    "df0.info()"
   ]
  },
  {
   "cell_type": "markdown",
   "metadata": {
    "tags": []
   },
   "source": [
    "##### 3. 마이너스 세일즈, 수량 고객 제외할것 있음하기 >> 없을 것임"
   ]
  },
  {
   "cell_type": "code",
   "execution_count": 84,
   "metadata": {},
   "outputs": [
    {
     "data": {
      "text/html": [
       "<div>\n",
       "<style scoped>\n",
       "    .dataframe tbody tr th:only-of-type {\n",
       "        vertical-align: middle;\n",
       "    }\n",
       "\n",
       "    .dataframe tbody tr th {\n",
       "        vertical-align: top;\n",
       "    }\n",
       "\n",
       "    .dataframe thead th {\n",
       "        text-align: right;\n",
       "    }\n",
       "</style>\n",
       "<table border=\"1\" class=\"dataframe\">\n",
       "  <thead>\n",
       "    <tr style=\"text-align: right;\">\n",
       "      <th></th>\n",
       "      <th>COSMO ID</th>\n",
       "      <th>Last and First Name (Local)</th>\n",
       "      <th>Birthdate Year</th>\n",
       "      <th>First Purchase Date</th>\n",
       "      <th>UNIT SOLD</th>\n",
       "      <th>MAT_Material(key)</th>\n",
       "      <th>NET VALUE</th>\n",
       "    </tr>\n",
       "  </thead>\n",
       "  <tbody>\n",
       "    <tr>\n",
       "      <th>0</th>\n",
       "      <td>0015800000wU1SyAAK</td>\n",
       "      <td>장홍자</td>\n",
       "      <td>Not assigned</td>\n",
       "      <td>2006-10-12 00:00:00</td>\n",
       "      <td>2.000</td>\n",
       "      <td>1</td>\n",
       "      <td>180000.000</td>\n",
       "    </tr>\n",
       "    <tr>\n",
       "      <th>1</th>\n",
       "      <td>0015800000w4WiYAAU</td>\n",
       "      <td>공경민</td>\n",
       "      <td>Not assigned</td>\n",
       "      <td>2012-03-05 00:00:00</td>\n",
       "      <td>1.000</td>\n",
       "      <td>1</td>\n",
       "      <td>182000.000</td>\n",
       "    </tr>\n",
       "    <tr>\n",
       "      <th>2</th>\n",
       "      <td>0015800001N4duSAAR</td>\n",
       "      <td>나영록</td>\n",
       "      <td>Not assigned</td>\n",
       "      <td>2018-06-01 00:00:00</td>\n",
       "      <td>1.000</td>\n",
       "      <td>1</td>\n",
       "      <td>182000.000</td>\n",
       "    </tr>\n",
       "    <tr>\n",
       "      <th>3</th>\n",
       "      <td>0014K00000UcUZ8QAN</td>\n",
       "      <td>여운호</td>\n",
       "      <td>Not assigned</td>\n",
       "      <td>2021-12-24 00:00:00</td>\n",
       "      <td>1.000</td>\n",
       "      <td>1</td>\n",
       "      <td>200000.000</td>\n",
       "    </tr>\n",
       "    <tr>\n",
       "      <th>4</th>\n",
       "      <td>0014K00000N8U6oQAF</td>\n",
       "      <td>이인자</td>\n",
       "      <td>Not assigned</td>\n",
       "      <td>2021-06-07 00:00:00</td>\n",
       "      <td>1.000</td>\n",
       "      <td>1</td>\n",
       "      <td>200000.000</td>\n",
       "    </tr>\n",
       "    <tr>\n",
       "      <th>...</th>\n",
       "      <td>...</td>\n",
       "      <td>...</td>\n",
       "      <td>...</td>\n",
       "      <td>...</td>\n",
       "      <td>...</td>\n",
       "      <td>...</td>\n",
       "      <td>...</td>\n",
       "    </tr>\n",
       "    <tr>\n",
       "      <th>86326</th>\n",
       "      <td>0015800000wU3jgAAC</td>\n",
       "      <td>원종남</td>\n",
       "      <td>Not assigned</td>\n",
       "      <td>2009-05-08 00:00:00</td>\n",
       "      <td>5.000</td>\n",
       "      <td>4</td>\n",
       "      <td>1429483000.000</td>\n",
       "    </tr>\n",
       "    <tr>\n",
       "      <th>86327</th>\n",
       "      <td>0015800000w4WrLAAU</td>\n",
       "      <td>안지선</td>\n",
       "      <td>1974.000</td>\n",
       "      <td>2012-09-13 00:00:00</td>\n",
       "      <td>25.000</td>\n",
       "      <td>25</td>\n",
       "      <td>1454473550.000</td>\n",
       "    </tr>\n",
       "    <tr>\n",
       "      <th>86328</th>\n",
       "      <td>0014K000005NIczQAG</td>\n",
       "      <td>조현아</td>\n",
       "      <td>Not assigned</td>\n",
       "      <td>2020-09-02 00:00:00</td>\n",
       "      <td>15.000</td>\n",
       "      <td>15</td>\n",
       "      <td>1606179500.000</td>\n",
       "    </tr>\n",
       "    <tr>\n",
       "      <th>86329</th>\n",
       "      <td>0015800000wU3WxAAK</td>\n",
       "      <td>임주현</td>\n",
       "      <td>Not assigned</td>\n",
       "      <td>2010-03-10 00:00:00</td>\n",
       "      <td>40.000</td>\n",
       "      <td>39</td>\n",
       "      <td>2140686500.000</td>\n",
       "    </tr>\n",
       "    <tr>\n",
       "      <th>86330</th>\n",
       "      <td>0015800000z8vxWAAQ</td>\n",
       "      <td>불가리고객</td>\n",
       "      <td>1979.000</td>\n",
       "      <td>2005-09-08 00:00:00</td>\n",
       "      <td>1101.000</td>\n",
       "      <td>628</td>\n",
       "      <td>2598837090.000</td>\n",
       "    </tr>\n",
       "  </tbody>\n",
       "</table>\n",
       "<p>86331 rows × 7 columns</p>\n",
       "</div>"
      ],
      "text/plain": [
       "                 COSMO ID Last and First Name (Local) Birthdate Year  \\\n",
       "0      0015800000wU1SyAAK                         장홍자   Not assigned   \n",
       "1      0015800000w4WiYAAU                         공경민   Not assigned   \n",
       "2      0015800001N4duSAAR                         나영록   Not assigned   \n",
       "3      0014K00000UcUZ8QAN                         여운호   Not assigned   \n",
       "4      0014K00000N8U6oQAF                         이인자   Not assigned   \n",
       "...                   ...                         ...            ...   \n",
       "86326  0015800000wU3jgAAC                         원종남   Not assigned   \n",
       "86327  0015800000w4WrLAAU                         안지선       1974.000   \n",
       "86328  0014K000005NIczQAG                         조현아   Not assigned   \n",
       "86329  0015800000wU3WxAAK                         임주현   Not assigned   \n",
       "86330  0015800000z8vxWAAQ                       불가리고객       1979.000   \n",
       "\n",
       "       First Purchase Date  UNIT SOLD  MAT_Material(key)      NET VALUE  \n",
       "0      2006-10-12 00:00:00      2.000                  1     180000.000  \n",
       "1      2012-03-05 00:00:00      1.000                  1     182000.000  \n",
       "2      2018-06-01 00:00:00      1.000                  1     182000.000  \n",
       "3      2021-12-24 00:00:00      1.000                  1     200000.000  \n",
       "4      2021-06-07 00:00:00      1.000                  1     200000.000  \n",
       "...                    ...        ...                ...            ...  \n",
       "86326  2009-05-08 00:00:00      5.000                  4 1429483000.000  \n",
       "86327  2012-09-13 00:00:00     25.000                 25 1454473550.000  \n",
       "86328  2020-09-02 00:00:00     15.000                 15 1606179500.000  \n",
       "86329  2010-03-10 00:00:00     40.000                 39 2140686500.000  \n",
       "86330  2005-09-08 00:00:00   1101.000                628 2598837090.000  \n",
       "\n",
       "[86331 rows x 7 columns]"
      ]
     },
     "execution_count": 84,
     "metadata": {},
     "output_type": "execute_result"
    }
   ],
   "source": [
    "df0.groupby(['COSMO ID', 'Last and First Name (Local)', 'Birthdate Year', 'First Purchase Date']).agg({'UNIT SOLD': 'sum', 'MAT_Material(key)': 'nunique', 'NET VALUE': 'sum'})\\\n",
    ".sort_values('NET VALUE', ascending=True).reset_index()"
   ]
  },
  {
   "cell_type": "code",
   "execution_count": 72,
   "metadata": {
    "tags": []
   },
   "outputs": [],
   "source": [
    "# df5 = df0.groupby(['COSMO ID', 'Last and First Name (Local)', 'Birthdate Year', 'First Purchase Date']).agg({'UNIT SOLD': 'sum', 'MAT_Material(key)': 'nunique', 'NET VALUE': 'sum'})\\\n",
    "# .sort_values('NET VALUE', ascending=True).reset_index()\n",
    "# print(len(df5))"
   ]
  },
  {
   "cell_type": "code",
   "execution_count": 73,
   "metadata": {
    "tags": []
   },
   "outputs": [],
   "source": [
    "# df5[df5['NET VALUE'] < 200000]"
   ]
  },
  {
   "cell_type": "code",
   "execution_count": 74,
   "metadata": {
    "tags": []
   },
   "outputs": [],
   "source": [
    "# #제품 2개에 20만원 이하 고객 실제 구매제품을 확인하기 어려워 제외함\n",
    "# novalue = list(df5[(df5['NET VALUE'] < 180000)]['COSMO ID'])\n",
    "# len(novalue)"
   ]
  },
  {
   "cell_type": "code",
   "execution_count": 75,
   "metadata": {},
   "outputs": [],
   "source": [
    "# print(df0['NET VALUE'].sum()) #제외전 금액\n",
    "# print(df0[df0['COSMO ID'].isin(novalue)]['NET VALUE'].sum()) #제외되는 금액"
   ]
  },
  {
   "cell_type": "code",
   "execution_count": 76,
   "metadata": {},
   "outputs": [],
   "source": [
    "# df0 = df0[~df0['COSMO ID'].isin(novalue)]\n",
    "# print(df0['NET VALUE'].sum()) #제외후 금액\n",
    "# df0.reset_index(drop=True, inplace=True)"
   ]
  },
  {
   "cell_type": "markdown",
   "metadata": {
    "tags": []
   },
   "source": [
    "##### 4. 비회원, 단체구매(SK), 수량 제일 많은(118개) 다이고 의심고객 제외 (고객기준 장바구니와 코호트분석시 제외할것) df0: sales_transaction.xlsx으로 저장후 다음단계에서 조작"
   ]
  },
  {
   "cell_type": "code",
   "execution_count": 77,
   "metadata": {},
   "outputs": [],
   "source": [
    "# df0 = df0[(df0['COSMO ID'] != '0015800000z8vxWAAQ') & (df0['COSMO ID'] != '0014K00000MU5zUQAT') & (df0['COSMO ID'] != '0014K00000Q0BdTQAV') & (df0['COSMO ID'] != '0015800000wUoGzAAK')]\n",
    "# df0.reset_index(drop=True, inplace=True)\n",
    "# print(len(df0))\n",
    "# print(df0['COSMO ID'].nunique())\n",
    "# print(df4['NET VALUE'].sum() - df0['NET VALUE'].sum()) #고객 분석에 쓰는 데이터에서 3억 감소\n",
    "# print(df0['NET VALUE'].sum()) # 비회원은 total sales의 0.5%정도. "
   ]
  },
  {
   "cell_type": "markdown",
   "metadata": {
    "jp-MarkdownHeadingCollapsed": true,
    "tags": []
   },
   "source": [
    "#### 1-3) 제품 database합치기(**df:sales_transaction_basket.xlsx**)"
   ]
  },
  {
   "cell_type": "code",
   "execution_count": 78,
   "metadata": {},
   "outputs": [
    {
     "name": "stdout",
     "output_type": "stream",
     "text": [
      "Wall time: 30.5 s\n"
     ]
    },
    {
     "data": {
      "text/plain": [
       "12869"
      ]
     },
     "execution_count": 78,
     "metadata": {},
     "output_type": "execute_result"
    }
   ],
   "source": [
    "%%time\n",
    "# 제품 속성 합칠 것\n",
    "df6 = pd.read_excel('DOS_Sales_2021.11.17.xlsx', sheet_name='ACT')\n",
    "df6.drop_duplicates(subset=['Sap Code'], keep='last', inplace=True, ignore_index=True)\n",
    "len(df6)"
   ]
  },
  {
   "cell_type": "code",
   "execution_count": 79,
   "metadata": {
    "collapsed": true,
    "jupyter": {
     "outputs_hidden": true
    },
    "tags": []
   },
   "outputs": [
    {
     "name": "stdout",
     "output_type": "stream",
     "text": [
      "<class 'pandas.core.frame.DataFrame'>\n",
      "Int64Index: 156098 entries, 0 to 156097\n",
      "Data columns (total 53 columns):\n",
      " #   Column                          Non-Null Count   Dtype         \n",
      "---  ------                          --------------   -----         \n",
      " 0   TIME-Year                       156098 non-null  int64         \n",
      " 1   TIME-Month                      156098 non-null  int64         \n",
      " 2   TIME-Date                       156098 non-null  datetime64[ns]\n",
      " 3   Purchase: Shop                  156098 non-null  object        \n",
      " 4   Main Client Advisor             156070 non-null  object        \n",
      " 5   COSMO ID                        156098 non-null  object        \n",
      " 6   Transaction Type Details        156098 non-null  object        \n",
      " 7   Sales ID BS                     156098 non-null  object        \n",
      " 8   MAT_Material(key)               156098 non-null  object        \n",
      " 9   UNIT SOLD                       156098 non-null  float64       \n",
      " 10  Discount %                      12921 non-null   float64       \n",
      " 11  NET VALUE                       156098 non-null  float64       \n",
      " 12  Gender                          156098 non-null  object        \n",
      " 13  Last and First Name (Local)     156098 non-null  object        \n",
      " 14  Birthdate Year                  156098 non-null  object        \n",
      " 15  Segment                         156098 non-null  object        \n",
      " 16  Nationality                     156098 non-null  object        \n",
      " 17  First Purchase Date             156098 non-null  object        \n",
      " 18  Last Purchase Date General      156098 non-null  object        \n",
      " 19  Lifetime Value (User Currency)  156098 non-null  float64       \n",
      " 20  Short Description               156097 non-null  object        \n",
      " 21  MAT_Gender                      156097 non-null  object        \n",
      " 22  MAT_Business Code(key)          156097 non-null  object        \n",
      " 23  Business                        156097 non-null  object        \n",
      " 24  Aesthetic Motif                 156097 non-null  object        \n",
      " 25  Aesthetic Line                  156097 non-null  object        \n",
      " 26  Catalogue Code                  156097 non-null  object        \n",
      " 27  Family                          156097 non-null  object        \n",
      " 28  Sub Family                      156097 non-null  object        \n",
      " 29  Metal                           156097 non-null  object        \n",
      " 30  Sap Marketing Material          156097 non-null  object        \n",
      " 31  Size                            156097 non-null  object        \n",
      " 32  HJ Reproducibility              156097 non-null  object        \n",
      " 33  Watch case material             156097 non-null  object        \n",
      " 34  Watch case size (mm)            156097 non-null  object        \n",
      " 35  Watch movement tipology         156097 non-null  object        \n",
      " 36  Watch movement functions        156097 non-null  object        \n",
      " 37  Category Code                   156097 non-null  object        \n",
      " 38  Main Color                      156097 non-null  object        \n",
      " 39  Main Composition                156097 non-null  object        \n",
      " 40  Dimension                       156097 non-null  object        \n",
      " 41  Current Collection Status       156097 non-null  object        \n",
      " 42  MAT-Classification(key)         156096 non-null  object        \n",
      " 43  Classification                  156097 non-null  object        \n",
      " 44  Date of Introduction            156097 non-null  object        \n",
      " 45  Watch Dial Colour               156097 non-null  object        \n",
      " 46  Watch Band Material             156097 non-null  object        \n",
      " 47  BATCH-Carat Range               156097 non-null  object        \n",
      " 48  MAT-Date Intro (FR)             156097 non-null  object        \n",
      " 49  MAT-RetailPriceBand             156097 non-null  object        \n",
      " 50  Jewel Presence of Diamonds      156097 non-null  object        \n",
      " 51  Jewel present pavè              156097 non-null  object        \n",
      " 52  Wat. Diamond Setting            156097 non-null  object        \n",
      "dtypes: datetime64[ns](1), float64(4), int64(2), object(46)\n",
      "memory usage: 64.3+ MB\n"
     ]
    }
   ],
   "source": [
    "df6 = df6.iloc[:, 1:-1] #제품속성만 남김\n",
    "df6.rename(columns={'Sap Code':'MAT_Material(key)', 'Gender':'MAT_Gender'}, inplace=True)\n",
    "df0 = pd.merge(df0, df6, how='left', on='MAT_Material(key)') # 제품속성 병합\n",
    "df0.info()"
   ]
  },
  {
   "cell_type": "code",
   "execution_count": 80,
   "metadata": {
    "collapsed": true,
    "jupyter": {
     "outputs_hidden": true
    },
    "tags": []
   },
   "outputs": [
    {
     "name": "stdout",
     "output_type": "stream",
     "text": [
      "<class 'pandas.core.frame.DataFrame'>\n",
      "RangeIndex: 156097 entries, 0 to 156096\n",
      "Data columns (total 53 columns):\n",
      " #   Column                          Non-Null Count   Dtype         \n",
      "---  ------                          --------------   -----         \n",
      " 0   TIME-Year                       156097 non-null  int64         \n",
      " 1   TIME-Month                      156097 non-null  int64         \n",
      " 2   TIME-Date                       156097 non-null  datetime64[ns]\n",
      " 3   Purchase: Shop                  156097 non-null  object        \n",
      " 4   Main Client Advisor             156069 non-null  object        \n",
      " 5   COSMO ID                        156097 non-null  object        \n",
      " 6   Transaction Type Details        156097 non-null  object        \n",
      " 7   Sales ID BS                     156097 non-null  object        \n",
      " 8   MAT_Material(key)               156097 non-null  object        \n",
      " 9   UNIT SOLD                       156097 non-null  float64       \n",
      " 10  Discount %                      12921 non-null   float64       \n",
      " 11  NET VALUE                       156097 non-null  float64       \n",
      " 12  Gender                          156097 non-null  object        \n",
      " 13  Last and First Name (Local)     156097 non-null  object        \n",
      " 14  Birthdate Year                  156097 non-null  object        \n",
      " 15  Segment                         156097 non-null  object        \n",
      " 16  Nationality                     156097 non-null  object        \n",
      " 17  First Purchase Date             156097 non-null  object        \n",
      " 18  Last Purchase Date General      156097 non-null  object        \n",
      " 19  Lifetime Value (User Currency)  156097 non-null  float64       \n",
      " 20  Short Description               156097 non-null  object        \n",
      " 21  MAT_Gender                      156097 non-null  object        \n",
      " 22  MAT_Business Code(key)          156097 non-null  object        \n",
      " 23  Business                        156097 non-null  object        \n",
      " 24  Aesthetic Motif                 156097 non-null  object        \n",
      " 25  Aesthetic Line                  156097 non-null  object        \n",
      " 26  Catalogue Code                  156097 non-null  object        \n",
      " 27  Family                          156097 non-null  object        \n",
      " 28  Sub Family                      156097 non-null  object        \n",
      " 29  Metal                           156097 non-null  object        \n",
      " 30  Sap Marketing Material          156097 non-null  object        \n",
      " 31  Size                            156097 non-null  object        \n",
      " 32  HJ Reproducibility              156097 non-null  object        \n",
      " 33  Watch case material             156097 non-null  object        \n",
      " 34  Watch case size (mm)            156097 non-null  object        \n",
      " 35  Watch movement tipology         156097 non-null  object        \n",
      " 36  Watch movement functions        156097 non-null  object        \n",
      " 37  Category Code                   156097 non-null  object        \n",
      " 38  Main Color                      156097 non-null  object        \n",
      " 39  Main Composition                156097 non-null  object        \n",
      " 40  Dimension                       156097 non-null  object        \n",
      " 41  Current Collection Status       156097 non-null  object        \n",
      " 42  MAT-Classification(key)         156096 non-null  object        \n",
      " 43  Classification                  156097 non-null  object        \n",
      " 44  Date of Introduction            156097 non-null  object        \n",
      " 45  Watch Dial Colour               156097 non-null  object        \n",
      " 46  Watch Band Material             156097 non-null  object        \n",
      " 47  BATCH-Carat Range               156097 non-null  object        \n",
      " 48  MAT-Date Intro (FR)             156097 non-null  object        \n",
      " 49  MAT-RetailPriceBand             156097 non-null  object        \n",
      " 50  Jewel Presence of Diamonds      156097 non-null  object        \n",
      " 51  Jewel present pavè              156097 non-null  object        \n",
      " 52  Wat. Diamond Setting            156097 non-null  object        \n",
      "dtypes: datetime64[ns](1), float64(4), int64(2), object(46)\n",
      "memory usage: 63.1+ MB\n"
     ]
    }
   ],
   "source": [
    "df0 = df0[~df0['Short Description'].isnull()] #제품 맵핑 안된것 확인후 지우기\n",
    "df0.reset_index(drop=True, inplace=True)\n",
    "df0.info()"
   ]
  },
  {
   "cell_type": "code",
   "execution_count": 81,
   "metadata": {
    "tags": []
   },
   "outputs": [
    {
     "name": "stdout",
     "output_type": "stream",
     "text": [
      "<class 'pandas.core.frame.DataFrame'>\n",
      "RangeIndex: 32 entries, 0 to 31\n",
      "Data columns (total 6 columns):\n",
      " #   Column                  Non-Null Count  Dtype \n",
      "---  ------                  --------------  ----- \n",
      " 0   MAT_SBU                 32 non-null     object\n",
      " 1   MAT_Business Code(key)  32 non-null     object\n",
      " 2   MAT_Business Code       32 non-null     object\n",
      " 3   SBU                     32 non-null     object\n",
      " 4   JWA                     32 non-null     object\n",
      " 5   MAT_Business Code(num)  32 non-null     int64 \n",
      "dtypes: int64(1), object(5)\n",
      "memory usage: 1.6+ KB\n",
      "Wall time: 13.1 s\n"
     ]
    }
   ],
   "source": [
    "%%time\n",
    "# SBU 합칠 것\n",
    "df9 = pd.read_excel('DOS_Sales_2021.11.17.xlsx', sheet_name='SBU')\n",
    "df9.info()"
   ]
  },
  {
   "cell_type": "code",
   "execution_count": 82,
   "metadata": {
    "collapsed": true,
    "jupyter": {
     "outputs_hidden": true
    },
    "tags": []
   },
   "outputs": [
    {
     "name": "stdout",
     "output_type": "stream",
     "text": [
      "<class 'pandas.core.frame.DataFrame'>\n",
      "Int64Index: 156097 entries, 0 to 156096\n",
      "Data columns (total 56 columns):\n",
      " #   Column                          Non-Null Count   Dtype         \n",
      "---  ------                          --------------   -----         \n",
      " 0   TIME-Year                       156097 non-null  int64         \n",
      " 1   TIME-Month                      156097 non-null  int64         \n",
      " 2   TIME-Date                       156097 non-null  datetime64[ns]\n",
      " 3   Purchase: Shop                  156097 non-null  object        \n",
      " 4   Main Client Advisor             156069 non-null  object        \n",
      " 5   COSMO ID                        156097 non-null  object        \n",
      " 6   Transaction Type Details        156097 non-null  object        \n",
      " 7   Sales ID BS                     156097 non-null  object        \n",
      " 8   MAT_Material(key)               156097 non-null  object        \n",
      " 9   UNIT SOLD                       156097 non-null  float64       \n",
      " 10  Discount %                      12921 non-null   float64       \n",
      " 11  NET VALUE                       156097 non-null  float64       \n",
      " 12  Gender                          156097 non-null  object        \n",
      " 13  Last and First Name (Local)     156097 non-null  object        \n",
      " 14  Birthdate Year                  156097 non-null  object        \n",
      " 15  Segment                         156097 non-null  object        \n",
      " 16  Nationality                     156097 non-null  object        \n",
      " 17  First Purchase Date             156097 non-null  object        \n",
      " 18  Last Purchase Date General      156097 non-null  object        \n",
      " 19  Lifetime Value (User Currency)  156097 non-null  float64       \n",
      " 20  Short Description               156097 non-null  object        \n",
      " 21  MAT_Gender                      156097 non-null  object        \n",
      " 22  MAT_Business Code(key)          156097 non-null  object        \n",
      " 23  Business                        156097 non-null  object        \n",
      " 24  Aesthetic Motif                 156097 non-null  object        \n",
      " 25  Aesthetic Line                  156097 non-null  object        \n",
      " 26  Catalogue Code                  156097 non-null  object        \n",
      " 27  Family                          156097 non-null  object        \n",
      " 28  Sub Family                      156097 non-null  object        \n",
      " 29  Metal                           156097 non-null  object        \n",
      " 30  Sap Marketing Material          156097 non-null  object        \n",
      " 31  Size                            156097 non-null  object        \n",
      " 32  HJ Reproducibility              156097 non-null  object        \n",
      " 33  Watch case material             156097 non-null  object        \n",
      " 34  Watch case size (mm)            156097 non-null  object        \n",
      " 35  Watch movement tipology         156097 non-null  object        \n",
      " 36  Watch movement functions        156097 non-null  object        \n",
      " 37  Category Code                   156097 non-null  object        \n",
      " 38  Main Color                      156097 non-null  object        \n",
      " 39  Main Composition                156097 non-null  object        \n",
      " 40  Dimension                       156097 non-null  object        \n",
      " 41  Current Collection Status       156097 non-null  object        \n",
      " 42  MAT-Classification(key)         156096 non-null  object        \n",
      " 43  Classification                  156097 non-null  object        \n",
      " 44  Date of Introduction            156097 non-null  object        \n",
      " 45  Watch Dial Colour               156097 non-null  object        \n",
      " 46  Watch Band Material             156097 non-null  object        \n",
      " 47  BATCH-Carat Range               156097 non-null  object        \n",
      " 48  MAT-Date Intro (FR)             156097 non-null  object        \n",
      " 49  MAT-RetailPriceBand             156097 non-null  object        \n",
      " 50  Jewel Presence of Diamonds      156097 non-null  object        \n",
      " 51  Jewel present pavè              156097 non-null  object        \n",
      " 52  Wat. Diamond Setting            156097 non-null  object        \n",
      " 53  MAT_SBU                         156097 non-null  object        \n",
      " 54  SBU                             156097 non-null  object        \n",
      " 55  JWA                             156097 non-null  object        \n",
      "dtypes: datetime64[ns](1), float64(4), int64(2), object(49)\n",
      "memory usage: 67.9+ MB\n"
     ]
    }
   ],
   "source": [
    "df9 = df9[['MAT_SBU', 'MAT_Business Code(key)', 'SBU', 'JWA']]\n",
    "df0 = pd.merge(df0, df9, how='left', on='MAT_Business Code(key)') # SBU 병합\n",
    "df0.info()"
   ]
  },
  {
   "cell_type": "code",
   "execution_count": 83,
   "metadata": {},
   "outputs": [
    {
     "name": "stdout",
     "output_type": "stream",
     "text": [
      "Wall time: 2min 25s\n"
     ]
    }
   ],
   "source": [
    "%%time\n",
    "df0.to_excel('sales_transaction_basket_cosmo.xlsx', index=False)"
   ]
  },
  {
   "cell_type": "code",
   "execution_count": null,
   "metadata": {},
   "outputs": [],
   "source": []
  }
 ],
 "metadata": {
  "kernelspec": {
   "display_name": "Python 3",
   "language": "python",
   "name": "python3"
  },
  "language_info": {
   "codemirror_mode": {
    "name": "ipython",
    "version": 3
   },
   "file_extension": ".py",
   "mimetype": "text/x-python",
   "name": "python",
   "nbconvert_exporter": "python",
   "pygments_lexer": "ipython3",
   "version": "3.7.6"
  }
 },
 "nbformat": 4,
 "nbformat_minor": 4
}
