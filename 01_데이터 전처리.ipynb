{
 "cells": [
  {
   "cell_type": "markdown",
   "metadata": {},
   "source": [
    "#### <font color = \"orange\">**회사 내부 Confidential 데이터로 판단되는 것은 코드/Output을 삭제하였습니다**"
   ]
  },
  {
   "cell_type": "markdown",
   "metadata": {},
   "source": [
    "## 01) 전처리"
   ]
  },
  {
   "cell_type": "code",
   "execution_count": 1,
   "metadata": {},
   "outputs": [],
   "source": [
    "import numpy as np\n",
    "import pandas as pd"
   ]
  },
  {
   "cell_type": "code",
   "execution_count": 4,
   "metadata": {},
   "outputs": [],
   "source": [
    "import warnings # 경고 알림 제거\n",
    "warnings.filterwarnings(\"ignore\", category=Warning) # 경고 알림이 뜨면 모두 무시합니다.\n",
    "\n",
    "pd.set_option('display.max_columns', 3000)\n",
    "# pd.set_option('display.max_colwidth', 200)\n",
    "pd.set_option('display.max_rows', 100)\n",
    "pd.set_option('display.float_format', lambda x: '%.3f' % x) #.0f: 소수점 자리수 지정"
   ]
  },
  {
   "cell_type": "markdown",
   "metadata": {
    "tags": []
   },
   "source": [
    "### 1) sales & customer data 전처리"
   ]
  },
  {
   "cell_type": "markdown",
   "metadata": {
    "tags": []
   },
   "source": [
    "#### 1-1) customer data를 중심으로 합침\n",
    "- 원래는 확정 세일즈가 기록된 sales data를 중심으로 합치는게 가장 이상적임\n",
    "- but join key값인 영수증 넘버에서 특이사항이 발견됨\n",
    "> 2017년도 이후 customer data 리턴영수증 표기방식이 변경되었음(2017년도에는 동일 제품(시리얼넘버)의 경우 날짜가 달라도 원래 세일즈 영수증과 같은 영수증번호였음 > 이후 sales data와 동일하게 시간,날짜 다를때 다른 영수증번호)\n",
    "- 따라서 2017년은 실제 세일즈 데이터와 고객 데이터의 오차율이 커, customer data에 있는 구매 금액으로 세일즈를 집계함"
   ]
  },
  {
   "cell_type": "code",
   "execution_count": null,
   "metadata": {
    "tags": []
   },
   "outputs": [],
   "source": [
    "%%time\n",
    "# 고객 데이터\n",
    "df1 = pd.read_excel(\"DOS_Sales_2021.11.17.xlsx\", sheet_name=\"POWER BI Raw data (Local)\", header=10, usecols='B:AD') \n",
    "df1.info()"
   ]
  },
  {
   "cell_type": "code",
   "execution_count": null,
   "metadata": {},
   "outputs": [],
   "source": [
    "# Text 타입(Object)를 날짜 형식(Datetime)으로 변환\n",
    "df1['First Purchase Date'] = pd.to_datetime(df1['First Purchase Date'], yearfirst=True, errors='coerce')\n",
    "df1['Purchase Date'] = pd.to_datetime(df1['Purchase Date'], yearfirst=True, errors='coerce')\n",
    "df1['TIME-Year'] = df1['Purchase Date'].dt.year\n",
    "df1['TIME-Month'] = df1['Purchase Date'].dt.month\n",
    "df1.head()"
   ]
  },
  {
   "cell_type": "code",
   "execution_count": 9,
   "metadata": {},
   "outputs": [
    {
     "data": {
      "text/plain": [
       "(291748, 31)"
      ]
     },
     "execution_count": 9,
     "metadata": {},
     "output_type": "execute_result"
    }
   ],
   "source": [
    "df1.shape"
   ]
  },
  {
   "cell_type": "code",
   "execution_count": 10,
   "metadata": {
    "tags": []
   },
   "outputs": [
    {
     "data": {
      "text/plain": [
       "(182149, 31)"
      ]
     },
     "execution_count": 10,
     "metadata": {},
     "output_type": "execute_result"
    }
   ],
   "source": [
    "df1 = df1[~df1['SBU'].isin(['JAS', 'PER', 'WAS', 'AAS'])] # JWA sales only\n",
    "df1 = df1[~df1['Client Category'].isin(['Employee'])] # w.o employee sales (family sales는 purchase shop에서 ofc로 표기되므로 매장에서 걸러짐)\n",
    "df1 = df1[(df1['Transaction Type Details']==\"Retail-Mchdise sale\")|(df1['Transaction Type Details']==\"Retail-Return mchdse\")] #제품 영수증만(기프트 영수증 및 디파짓 제외)\n",
    "df1 = df1[~df1['Sales Amount (Purchase Currency)'].isnull()]\n",
    "df1.shape"
   ]
  },
  {
   "cell_type": "code",
   "execution_count": null,
   "metadata": {
    "tags": []
   },
   "outputs": [],
   "source": [
    "StringList = df1['Purchase: Shop'].tolist()\n",
    "set([p for p in StringList if not(p.startswith(('Bvlgari', 'BVLGARI', 'Bulgari')))]) #우리매장만 골라내기"
   ]
  },
  {
   "cell_type": "code",
   "execution_count": 12,
   "metadata": {},
   "outputs": [
    {
     "data": {
      "text/plain": [
       "22"
      ]
     },
     "execution_count": 12,
     "metadata": {},
     "output_type": "execute_result"
    }
   ],
   "source": [
    "shop = [\"매장 리스트(코드 삭제)\"]\n",
    "len(shop)"
   ]
  },
  {
   "cell_type": "code",
   "execution_count": 13,
   "metadata": {
    "tags": []
   },
   "outputs": [
    {
     "data": {
      "text/plain": [
       "(180966, 31)"
      ]
     },
     "execution_count": 13,
     "metadata": {},
     "output_type": "execute_result"
    }
   ],
   "source": [
    "df1 = df1[df1['Purchase: Shop'].isin(shop)]\n",
    "df1.shape"
   ]
  },
  {
   "cell_type": "code",
   "execution_count": null,
   "metadata": {},
   "outputs": [],
   "source": [
    "df1.reset_index(drop=True, inplace=True)\n",
    "print(df1.shape)\n",
    "df1.info()"
   ]
  },
  {
   "cell_type": "code",
   "execution_count": 20,
   "metadata": {},
   "outputs": [],
   "source": [
    "# 고객 데이터의 세일즈와 확정 세일즈 데이터가 괴리가 클시 확인해볼것\n",
    "# df1[df1['Purchase Date'].dt.year == 2021].set_index('Purchase Date').groupby(pd.Grouper(freq='M'))['Sales Amount (Purchase Currency)'].sum() / 1.1"
   ]
  },
  {
   "cell_type": "code",
   "execution_count": null,
   "metadata": {},
   "outputs": [],
   "source": [
    "df1.info()"
   ]
  },
  {
   "cell_type": "code",
   "execution_count": null,
   "metadata": {
    "tags": []
   },
   "outputs": [],
   "source": [
    "# df2: 고객데이터 필요한컬럼만 선택\n",
    "df2 = df1.loc[:, ['TIME-Year', 'TIME-Month', 'Purchase Date', 'Purchase: Shop', 'Main Client Advisor', 'COSMO ID', 'Transaction Type Details', 'Reference Transaction Beanstore2', \\\n",
    "                  'Material Number (SAP Code)', 'Item Quantity', 'Discount %', 'Sales Amount (Purchase Currency)']]\\\n",
    ".rename(columns={'Purchase Date':'TIME-Date', 'Reference Transaction Beanstore2': 'Sales ID BS', 'Material Number (SAP Code)':'MAT_Material(key)', 'Item Quantity':'UNIT SOLD', \\\n",
    "                 'Sales Amount (Purchase Currency)':'NET VALUE'}) #부가세 포함 금액임\n",
    "print(len(df2))\n",
    "df2.head()"
   ]
  },
  {
   "cell_type": "code",
   "execution_count": 23,
   "metadata": {},
   "outputs": [
    {
     "name": "stdout",
     "output_type": "stream",
     "text": [
      "86854\n"
     ]
    },
    {
     "data": {
      "text/plain": [
       "(86854, 9)"
      ]
     },
     "execution_count": 23,
     "metadata": {},
     "output_type": "execute_result"
    }
   ],
   "source": [
    "print(df2['COSMO ID'].nunique())\n",
    "# df3: 순수 고객데이터베이스\n",
    "df3 = df1[['COSMO ID', 'Gender', 'Last and First Name (Local)', 'Birthdate Year', 'Segment', 'Nationality', 'First Purchase Date', 'Last Purchase Date General', 'Lifetime Value (User Currency)']] #CRM ID blank생겨서 사용안함\n",
    "df3.drop_duplicates(subset=['COSMO ID'], keep='last', inplace=True, ignore_index=True)\n",
    "df3.shape #df2와 고객수 같은지 확인"
   ]
  },
  {
   "cell_type": "code",
   "execution_count": null,
   "metadata": {},
   "outputs": [],
   "source": [
    "# 고객데이터 병합\n",
    "df4 = pd.merge(df2, df3, how='left', on = 'COSMO ID')\n",
    "df4.info()"
   ]
  },
  {
   "cell_type": "markdown",
   "metadata": {
    "tags": []
   },
   "source": [
    "#### 1-2) 실제 고객 분석에서 제외할 데이터 추가 편집\n",
    "1. **리턴하여 실제로 구매하지 않은 제품 삭제**\n",
    "    - df raw data 단계에서 영수증(Sales ID BS) & 제품(MAT_Material(key)) 기준 net value sum 0인것 제외 \n",
    "    - 고객 id(cosmo id) & 제품(MAT_Material(key)) 기준 groupby 한 후 net value sum 0 '미만'인거 제외\n",
    "    - 고객 id(cosmo id) & 제품(MAT_Material(key)) & TIME-Date 기준 : 같은날 리턴해서 0되는것 제거 \n",
    "    - 데이터 정렬 후, 리턴 영수증 위 행이랑 sales 합이 0이면 두 행 제거(리턴 하나전, 리턴 하나 뒤, 리턴 두개 뒤, 리턴 하나전 다시, 리턴 두개 전, 리턴 하나 뒤 다시)\n",
    "2. 세일즈, 수량 마이너스 고객 제외"
   ]
  },
  {
   "cell_type": "code",
   "execution_count": 25,
   "metadata": {
    "tags": []
   },
   "outputs": [
    {
     "data": {
      "text/plain": [
       "Transaction Type Details\n",
       "Retail-Mchdise sale     126421\n",
       "Retail-Return mchdse      9801\n",
       "Name: Sales ID BS, dtype: int64"
      ]
     },
     "execution_count": 25,
     "metadata": {},
     "output_type": "execute_result"
    }
   ],
   "source": [
    "df4.groupby(['Transaction Type Details'])['Sales ID BS'].nunique()"
   ]
  },
  {
   "cell_type": "markdown",
   "metadata": {
    "tags": []
   },
   "source": [
    "##### 1. 영수증 제외\n",
    "- df7: 티켓별 sum 0 \n",
    "- df8: 고객별 sum < 0"
   ]
  },
  {
   "cell_type": "code",
   "execution_count": null,
   "metadata": {
    "tags": []
   },
   "outputs": [],
   "source": [
    "df0 = df4.copy()\n",
    "print(len(df0))\n",
    "df0['NET VALUE'].sum() #삭제 전후 비교위해"
   ]
  },
  {
   "cell_type": "code",
   "execution_count": 27,
   "metadata": {},
   "outputs": [
    {
     "name": "stdout",
     "output_type": "stream",
     "text": [
      "2705\n",
      "2705\n"
     ]
    },
    {
     "data": {
      "text/plain": [
       "'0.00'"
      ]
     },
     "execution_count": 27,
     "metadata": {},
     "output_type": "execute_result"
    }
   ],
   "source": [
    "df7 = df0.groupby(['Sales ID BS', 'MAT_Material(key)'])['NET VALUE'].sum().sort_values().reset_index()\n",
    "df7 = df7[(df7['NET VALUE'] > -1) & (df7['NET VALUE'] < 1)] #net value sum 0(소수점때문에 범위로) \n",
    "print(len(df7))\n",
    "\n",
    "df7['key0'] = df7['Sales ID BS'] + df7['MAT_Material(key)']\n",
    "ticket7 = list(df7['key0'])\n",
    "print(len(ticket7))\n",
    "df0['key0'] = df0['Sales ID BS'] + df0['MAT_Material(key)']\n",
    "num0 = df0[df0['key0'].isin(ticket7)]['NET VALUE'].sum()\n",
    "f\"{num0:.2f}\" #0인지 확인하고 ticket7 제외할것"
   ]
  },
  {
   "cell_type": "code",
   "execution_count": null,
   "metadata": {},
   "outputs": [],
   "source": [
    "df0 = df0[~df0['key0'].isin(ticket7)]\n",
    "print(len(df0)) #영수증 제외 전후 비교\n",
    "df0['NET VALUE'].sum()"
   ]
  },
  {
   "cell_type": "code",
   "execution_count": 29,
   "metadata": {},
   "outputs": [
    {
     "name": "stdout",
     "output_type": "stream",
     "text": [
      "3815\n",
      "-391333390.0\n",
      "-391333390.00\n"
     ]
    }
   ],
   "source": [
    "df8 = df0.groupby(['COSMO ID', 'MAT_Material(key)'])['NET VALUE'].sum().reset_index()\n",
    "df8 = df8[(df8['NET VALUE'] <= 1)] #-1~1범위로 0 찾음, 2016년에 제품을 샀다가 리턴했으면 -세일즈 나옴 (보통 리턴 후 다른제품 구매) (df8['NET VALUE'] >= -1) & \n",
    "print(len(df8))\n",
    "print(df8[(df8['NET VALUE'] <= 1)]['NET VALUE'].sum()) #제외되는 금액\n",
    "\n",
    "df8['key'] = df8['COSMO ID'] + df8['MAT_Material(key)']\n",
    "ticket8 = list(df8['key'])\n",
    "df0['key'] = df0['COSMO ID'] + df0['MAT_Material(key)']\n",
    "num = df0[df0['key'].isin(ticket8)]['NET VALUE'].sum() #최종 db에서 제외되는 금액 확인\n",
    "print(f\"{num:.2f}\")"
   ]
  },
  {
   "cell_type": "code",
   "execution_count": null,
   "metadata": {},
   "outputs": [],
   "source": [
    "df0 = df0[~df0['key'].isin(ticket8)]\n",
    "print(len(df0)) #약 8천개 미만의 행을 추가 삭제\n",
    "print(df0['NET VALUE'].sum()) #금액 전후 비교"
   ]
  },
  {
   "cell_type": "code",
   "execution_count": 31,
   "metadata": {},
   "outputs": [],
   "source": [
    "df0 = df0[df0.groupby(['COSMO ID', 'TIME-Date', 'MAT_Material(key)'])[\"NET VALUE\"].transform(sum) != 0] #같은날 리턴해서 0되는것 제거"
   ]
  },
  {
   "cell_type": "code",
   "execution_count": null,
   "metadata": {},
   "outputs": [],
   "source": [
    "print(len(df0))\n",
    "print(df0['NET VALUE'].sum()) #리턴 편집전과 세일즈 토탈 금액 비교할것 "
   ]
  },
  {
   "cell_type": "code",
   "execution_count": 33,
   "metadata": {},
   "outputs": [
    {
     "name": "stdout",
     "output_type": "stream",
     "text": [
      "2\n",
      "2\n"
     ]
    },
    {
     "data": {
      "text/plain": [
       "'0.00'"
      ]
     },
     "execution_count": 33,
     "metadata": {},
     "output_type": "execute_result"
    }
   ],
   "source": [
    "# df0이 바뀌었기 때문에 한번 또돌림\n",
    "df7 = df0.groupby(['Sales ID BS', 'MAT_Material(key)'])['NET VALUE'].sum().sort_values().reset_index()\n",
    "df7 = df7[(df7['NET VALUE'] > -1) & (df7['NET VALUE'] < 1)] #net value sum 0(소수점때문에 범위로) \n",
    "print(len(df7))\n",
    "\n",
    "df7['key0'] = df7['Sales ID BS'] + df7['MAT_Material(key)']\n",
    "ticket7 = list(df7['key0'])\n",
    "print(len(ticket7))\n",
    "df0['key0'] = df0['Sales ID BS'] + df0['MAT_Material(key)']\n",
    "num0 = df0[df0['key0'].isin(ticket7)]['NET VALUE'].sum()\n",
    "f\"{num0:.2f}\" #0인지 확인하고 ticket7 제외할것"
   ]
  },
  {
   "cell_type": "code",
   "execution_count": null,
   "metadata": {},
   "outputs": [],
   "source": [
    "df0 = df0[~df0['key0'].isin(ticket7)]\n",
    "print(len(df0)) #영수증 아주 쪼금 제외 ㅎ\n",
    "df0['NET VALUE'].sum() #전후 금액 비교"
   ]
  },
  {
   "cell_type": "code",
   "execution_count": 36,
   "metadata": {},
   "outputs": [],
   "source": [
    "df0 = df0.sort_values(['COSMO ID', 'MAT_Material(key)', 'TIME-Date', 'Sales ID BS']).reset_index(drop=True) #리턴과 위에있는 세일즈 0될 경우 지우기 위해 정렬해줌"
   ]
  },
  {
   "cell_type": "code",
   "execution_count": 37,
   "metadata": {
    "tags": []
   },
   "outputs": [
    {
     "name": "stdout",
     "output_type": "stream",
     "text": [
      "Wall time: 15.5 s\n"
     ]
    },
    {
     "data": {
      "text/plain": [
       "[42, 45, 48, 51, 60]"
      ]
     },
     "execution_count": 37,
     "metadata": {},
     "output_type": "execute_result"
    }
   ],
   "source": [
    "%%time\n",
    "lst = []\n",
    "pre = []\n",
    "for index, row in df0.iterrows():\n",
    "    if row['Transaction Type Details'] == 'Retail-Return mchdse': \n",
    "        if row['NET VALUE'] + df0.loc[index-1, 'NET VALUE'] == 0: #리턴 이전 행과 합이 0\n",
    "            idx = index\n",
    "            preidx = index-1\n",
    "            lst.append(idx)\n",
    "            pre.append(preidx)\n",
    "result = lst + pre\n",
    "result[:5]"
   ]
  },
  {
   "cell_type": "code",
   "execution_count": 38,
   "metadata": {},
   "outputs": [
    {
     "data": {
      "text/plain": [
       "0.0"
      ]
     },
     "execution_count": 38,
     "metadata": {},
     "output_type": "execute_result"
    }
   ],
   "source": [
    "df0[df0.index.isin(result)]['NET VALUE'].sum()"
   ]
  },
  {
   "cell_type": "code",
   "execution_count": null,
   "metadata": {
    "tags": []
   },
   "outputs": [],
   "source": [
    "df0 = df0[~df0.index.isin(result)]\n",
    "print(len(df0))\n",
    "df0['NET VALUE'].sum() #거의 실제 구매내역과 근접하게 리턴 내역 지움"
   ]
  },
  {
   "cell_type": "code",
   "execution_count": 40,
   "metadata": {},
   "outputs": [
    {
     "data": {
      "text/plain": [
       "Transaction Type Details\n",
       "Retail-Mchdise sale     118609\n",
       "Retail-Return mchdse       931\n",
       "Name: Sales ID BS, dtype: int64"
      ]
     },
     "execution_count": 40,
     "metadata": {},
     "output_type": "execute_result"
    }
   ],
   "source": [
    "df0.groupby(['Transaction Type Details'])['Sales ID BS'].nunique() #리턴 편집전후로 여기서 가장 많이 줄어듬"
   ]
  },
  {
   "cell_type": "code",
   "execution_count": 41,
   "metadata": {},
   "outputs": [],
   "source": [
    "df0 = df0.reset_index(drop=True) #인덱스 모두 1차이 나도록 리셋"
   ]
  },
  {
   "cell_type": "code",
   "execution_count": 42,
   "metadata": {
    "tags": []
   },
   "outputs": [
    {
     "name": "stdout",
     "output_type": "stream",
     "text": [
      "Wall time: 15.2 s\n"
     ]
    },
    {
     "data": {
      "text/plain": [
       "[652, 818, 1416, 1419, 1476]"
      ]
     },
     "execution_count": 42,
     "metadata": {},
     "output_type": "execute_result"
    }
   ],
   "source": [
    "%%time\n",
    "lst = []\n",
    "aft = []\n",
    "for index, row in df0.iterrows():\n",
    "    if row['Transaction Type Details'] == 'Retail-Return mchdse':\n",
    "        if row['NET VALUE'] + df0.loc[index+1, 'NET VALUE'] == 0: #리턴 이후 행과 합이 0\n",
    "            idx = index\n",
    "            aftidx = index+1\n",
    "            lst.append(idx)\n",
    "            aft.append(aftidx)\n",
    "result = lst + aft\n",
    "result[:5]"
   ]
  },
  {
   "cell_type": "code",
   "execution_count": 43,
   "metadata": {},
   "outputs": [
    {
     "data": {
      "text/plain": [
       "0.0"
      ]
     },
     "execution_count": 43,
     "metadata": {},
     "output_type": "execute_result"
    }
   ],
   "source": [
    "df0[df0.index.isin(result)]['NET VALUE'].sum()"
   ]
  },
  {
   "cell_type": "code",
   "execution_count": null,
   "metadata": {
    "tags": []
   },
   "outputs": [],
   "source": [
    "df0 = df0[~df0.index.isin(result)]\n",
    "print(len(df0))\n",
    "df0['NET VALUE'].sum()"
   ]
  },
  {
   "cell_type": "code",
   "execution_count": 45,
   "metadata": {},
   "outputs": [
    {
     "data": {
      "text/plain": [
       "Transaction Type Details\n",
       "Retail-Mchdise sale     117966\n",
       "Retail-Return mchdse       113\n",
       "Name: Sales ID BS, dtype: int64"
      ]
     },
     "execution_count": 45,
     "metadata": {},
     "output_type": "execute_result"
    }
   ],
   "source": [
    "df0.groupby(['Transaction Type Details'])['Sales ID BS'].nunique() #리턴 편집전과 세일즈&리턴영수증 개수 비교"
   ]
  },
  {
   "cell_type": "code",
   "execution_count": 46,
   "metadata": {},
   "outputs": [],
   "source": [
    "df0 = df0.reset_index(drop=True) #인덱스 모두 1차이 나도록 리셋"
   ]
  },
  {
   "cell_type": "code",
   "execution_count": 47,
   "metadata": {
    "tags": []
   },
   "outputs": [
    {
     "name": "stdout",
     "output_type": "stream",
     "text": [
      "Wall time: 15 s\n"
     ]
    },
    {
     "data": {
      "text/plain": [
       "[576, 2272, 4317, 6829, 9092]"
      ]
     },
     "execution_count": 47,
     "metadata": {},
     "output_type": "execute_result"
    }
   ],
   "source": [
    "%%time\n",
    "lst = []\n",
    "aft = []\n",
    "for index, row in df0.iterrows():\n",
    "    if row['Transaction Type Details'] == 'Retail-Return mchdse':\n",
    "        if row['NET VALUE'] + df0.loc[index+2, 'NET VALUE'] == 0: #리턴 이후 다다음 행과 합이 0 (보통 가격인상전 디파짓걸어놓고 세일즈 클로징할때임)\n",
    "            idx = index\n",
    "            aftidx = index+2\n",
    "            lst.append(idx)\n",
    "            aft.append(aftidx)\n",
    "result = lst + aft\n",
    "result[:5]"
   ]
  },
  {
   "cell_type": "code",
   "execution_count": 48,
   "metadata": {},
   "outputs": [
    {
     "data": {
      "text/plain": [
       "0.0"
      ]
     },
     "execution_count": 48,
     "metadata": {},
     "output_type": "execute_result"
    }
   ],
   "source": [
    "df0[df0.index.isin(result)]['NET VALUE'].sum()"
   ]
  },
  {
   "cell_type": "code",
   "execution_count": null,
   "metadata": {
    "tags": []
   },
   "outputs": [],
   "source": [
    "df0 = df0[~df0.index.isin(result)]\n",
    "print(len(df0))\n",
    "df0['NET VALUE'].sum() #세일즈는 계속 똑같은지 비교"
   ]
  },
  {
   "cell_type": "code",
   "execution_count": 50,
   "metadata": {},
   "outputs": [
    {
     "data": {
      "text/plain": [
       "Transaction Type Details\n",
       "Retail-Mchdise sale     117918\n",
       "Retail-Return mchdse        45\n",
       "Name: Sales ID BS, dtype: int64"
      ]
     },
     "execution_count": 50,
     "metadata": {},
     "output_type": "execute_result"
    }
   ],
   "source": [
    "df0.groupby(['Transaction Type Details'])['Sales ID BS'].nunique() #리턴 편집전과 세일즈&리턴영수증 개수 비교"
   ]
  },
  {
   "cell_type": "code",
   "execution_count": 51,
   "metadata": {},
   "outputs": [],
   "source": [
    "df0 = df0.reset_index(drop=True)"
   ]
  },
  {
   "cell_type": "code",
   "execution_count": 52,
   "metadata": {
    "tags": []
   },
   "outputs": [
    {
     "name": "stdout",
     "output_type": "stream",
     "text": [
      "Wall time: 14.2 s\n"
     ]
    },
    {
     "data": {
      "text/plain": [
       "[10119, 15229, 19611, 35158, 35161]"
      ]
     },
     "execution_count": 52,
     "metadata": {},
     "output_type": "execute_result"
    }
   ],
   "source": [
    "%%time\n",
    "lst = []\n",
    "pre = []\n",
    "for index, row in df0.iterrows():\n",
    "    if row['Transaction Type Details'] == 'Retail-Return mchdse': \n",
    "        if row['NET VALUE'] + df0.loc[index-1, 'NET VALUE'] == 0: #리턴 이전 행과 합이 0 다시한번\n",
    "            idx = index\n",
    "            preidx = index-1\n",
    "            lst.append(idx)\n",
    "            pre.append(preidx)\n",
    "result = lst + pre\n",
    "result[:5]"
   ]
  },
  {
   "cell_type": "code",
   "execution_count": 53,
   "metadata": {},
   "outputs": [
    {
     "data": {
      "text/plain": [
       "0.0"
      ]
     },
     "execution_count": 53,
     "metadata": {},
     "output_type": "execute_result"
    }
   ],
   "source": [
    "df0[df0.index.isin(result)]['NET VALUE'].sum()"
   ]
  },
  {
   "cell_type": "code",
   "execution_count": null,
   "metadata": {
    "tags": []
   },
   "outputs": [],
   "source": [
    "df0 = df0[~df0.index.isin(result)]\n",
    "print(len(df0))\n",
    "df0['NET VALUE'].sum() #세일즈는 계속 똑같은지 비교"
   ]
  },
  {
   "cell_type": "code",
   "execution_count": 55,
   "metadata": {},
   "outputs": [
    {
     "data": {
      "text/plain": [
       "Transaction Type Details\n",
       "Retail-Mchdise sale     117905\n",
       "Retail-Return mchdse        26\n",
       "Name: Sales ID BS, dtype: int64"
      ]
     },
     "execution_count": 55,
     "metadata": {},
     "output_type": "execute_result"
    }
   ],
   "source": [
    "df0.groupby(['Transaction Type Details'])['Sales ID BS'].nunique() #리턴 구매내역 거의 다 지움"
   ]
  },
  {
   "cell_type": "code",
   "execution_count": 56,
   "metadata": {},
   "outputs": [],
   "source": [
    "df0 = df0.reset_index(drop=True)"
   ]
  },
  {
   "cell_type": "code",
   "execution_count": 57,
   "metadata": {
    "tags": []
   },
   "outputs": [
    {
     "name": "stdout",
     "output_type": "stream",
     "text": [
      "Wall time: 14.4 s\n"
     ]
    },
    {
     "data": {
      "text/plain": [
       "[11403, 25584, 28121, 29241, 37978]"
      ]
     },
     "execution_count": 57,
     "metadata": {},
     "output_type": "execute_result"
    }
   ],
   "source": [
    "%%time\n",
    "lst = []\n",
    "pre = []\n",
    "for index, row in df0.iterrows():\n",
    "    if row['Transaction Type Details'] == 'Retail-Return mchdse': \n",
    "        if row['NET VALUE'] + df0.loc[index-2, 'NET VALUE'] == 0: #리턴 전전 행과 합이 0\n",
    "            idx = index\n",
    "            preidx = index-2\n",
    "            lst.append(idx)\n",
    "            pre.append(preidx)\n",
    "result = lst + pre\n",
    "result[:5]"
   ]
  },
  {
   "cell_type": "code",
   "execution_count": 58,
   "metadata": {},
   "outputs": [
    {
     "data": {
      "text/plain": [
       "0.0"
      ]
     },
     "execution_count": 58,
     "metadata": {},
     "output_type": "execute_result"
    }
   ],
   "source": [
    "df0[df0.index.isin(result)]['NET VALUE'].sum()"
   ]
  },
  {
   "cell_type": "code",
   "execution_count": 59,
   "metadata": {
    "tags": []
   },
   "outputs": [
    {
     "name": "stdout",
     "output_type": "stream",
     "text": [
      "156102\n"
     ]
    },
    {
     "data": {
      "text/plain": [
       "621908935573.0"
      ]
     },
     "execution_count": 59,
     "metadata": {},
     "output_type": "execute_result"
    }
   ],
   "source": [
    "df0 = df0[~df0.index.isin(result)]\n",
    "print(len(df0))\n",
    "df0['NET VALUE'].sum() #세일즈는 계속 똑같은지 비교"
   ]
  },
  {
   "cell_type": "code",
   "execution_count": 60,
   "metadata": {},
   "outputs": [
    {
     "data": {
      "text/plain": [
       "Transaction Type Details\n",
       "Retail-Mchdise sale     117890\n",
       "Retail-Return mchdse         7\n",
       "Name: Sales ID BS, dtype: int64"
      ]
     },
     "execution_count": 60,
     "metadata": {},
     "output_type": "execute_result"
    }
   ],
   "source": [
    "df0.groupby(['Transaction Type Details'])['Sales ID BS'].nunique() #리턴 구매내역 거의 다 지움"
   ]
  },
  {
   "cell_type": "code",
   "execution_count": 61,
   "metadata": {},
   "outputs": [],
   "source": [
    "df0 = df0.reset_index(drop=True) #인덱스 모두 1차이 나도록 리셋"
   ]
  },
  {
   "cell_type": "code",
   "execution_count": 62,
   "metadata": {
    "tags": []
   },
   "outputs": [
    {
     "name": "stdout",
     "output_type": "stream",
     "text": [
      "Wall time: 13.7 s\n"
     ]
    },
    {
     "data": {
      "text/plain": [
       "[86866, 86869, 86867, 86870]"
      ]
     },
     "execution_count": 62,
     "metadata": {},
     "output_type": "execute_result"
    }
   ],
   "source": [
    "%%time\n",
    "lst = []\n",
    "aft = []\n",
    "for index, row in df0.iterrows():\n",
    "    if row['Transaction Type Details'] == 'Retail-Return mchdse':\n",
    "        if row['NET VALUE'] + df0.loc[index+1, 'NET VALUE'] == 0: #리턴 이후 행과 합이 0\n",
    "            idx = index\n",
    "            aftidx = index+1\n",
    "            lst.append(idx)\n",
    "            aft.append(aftidx)\n",
    "result = lst + aft\n",
    "result[:5]"
   ]
  },
  {
   "cell_type": "code",
   "execution_count": 63,
   "metadata": {},
   "outputs": [
    {
     "data": {
      "text/plain": [
       "0.0"
      ]
     },
     "execution_count": 63,
     "metadata": {},
     "output_type": "execute_result"
    }
   ],
   "source": [
    "df0[df0.index.isin(result)]['NET VALUE'].sum()"
   ]
  },
  {
   "cell_type": "code",
   "execution_count": null,
   "metadata": {
    "tags": []
   },
   "outputs": [],
   "source": [
    "df0 = df0[~df0.index.isin(result)]\n",
    "print(len(df0))\n",
    "df0['NET VALUE'].sum()"
   ]
  },
  {
   "cell_type": "code",
   "execution_count": 65,
   "metadata": {},
   "outputs": [
    {
     "data": {
      "text/plain": [
       "Transaction Type Details\n",
       "Retail-Mchdise sale     117889\n",
       "Retail-Return mchdse         6\n",
       "Name: Sales ID BS, dtype: int64"
      ]
     },
     "execution_count": 65,
     "metadata": {},
     "output_type": "execute_result"
    }
   ],
   "source": [
    "df0.groupby(['Transaction Type Details'])['Sales ID BS'].nunique() #리턴 구매내역 거의 다 지움"
   ]
  },
  {
   "cell_type": "code",
   "execution_count": null,
   "metadata": {
    "tags": []
   },
   "outputs": [],
   "source": [
    "df0[df0['Transaction Type Details']=='Retail-Return mchdse']"
   ]
  },
  {
   "cell_type": "code",
   "execution_count": null,
   "metadata": {},
   "outputs": [],
   "source": [
    "df0 = df0.drop(['key0','key'], axis=1) #컬럼 삭제\n",
    "df0.info()"
   ]
  },
  {
   "cell_type": "code",
   "execution_count": 68,
   "metadata": {},
   "outputs": [
    {
     "data": {
      "text/plain": [
       "TIME-Year                              0\n",
       "TIME-Month                             0\n",
       "TIME-Date                              0\n",
       "Purchase: Shop                         0\n",
       "Main Client Advisor                   28\n",
       "COSMO ID                               0\n",
       "Transaction Type Details               0\n",
       "Sales ID BS                            0\n",
       "MAT_Material(key)                      0\n",
       "UNIT SOLD                              0\n",
       "Discount %                        143177\n",
       "NET VALUE                              0\n",
       "Gender                              1677\n",
       "Last and First Name (Local)           55\n",
       "Birthdate Year                     99092\n",
       "Segment                             6272\n",
       "Nationality                        31593\n",
       "First Purchase Date                  438\n",
       "Last Purchase Date General           464\n",
       "Lifetime Value (User Currency)         0\n",
       "dtype: int64"
      ]
     },
     "execution_count": 68,
     "metadata": {},
     "output_type": "execute_result"
    }
   ],
   "source": [
    "#영수증 미맵핑 고객아이디 처리 >> groupby 인덱스칼럼에 null있으면 집계결과에 포함 안됨\n",
    "df0.isnull().sum()"
   ]
  },
  {
   "cell_type": "code",
   "execution_count": 69,
   "metadata": {},
   "outputs": [],
   "source": [
    "#영수증 미맵핑 고객아이디 처리 >> groupby 인덱스칼럼에 null있으면 집계결과에 포함 안됨\n",
    "df0['COSMO ID'] = df0['COSMO ID'].fillna('Not assigned') \n",
    "df0.loc[df0[df0['Gender'].isnull()].index, 'Gender'] = 'Not assigned'\n",
    "df0.loc[df0[df0['Last and First Name (Local)'].isnull()].index, 'Last and First Name (Local)'] = 'Not assigned'\n",
    "df0.loc[df0[df0['Birthdate Year'].isnull()].index, 'Birthdate Year'] = 'Not assigned'\n",
    "df0.loc[df0[df0['Segment'].isnull()].index, 'Segment'] = 'Not assigned'\n",
    "df0.loc[df0[df0['Nationality'].isnull()].index, 'Nationality'] = 'Not assigned'\n",
    "df0.loc[df0[df0['First Purchase Date'].isnull()].index, 'First Purchase Date'] = 'Not assigned'\n",
    "df0.loc[df0[df0['Last Purchase Date General'].isnull()].index, 'Last Purchase Date General'] = 'Not assigned'\n",
    "# df0.loc[df0[df0['Lifetime Value (User Currency)'].isnull()].index, 'Lifetime Value (User Currency)'] = 'Not Assigned'"
   ]
  },
  {
   "cell_type": "code",
   "execution_count": null,
   "metadata": {
    "tags": []
   },
   "outputs": [],
   "source": [
    "df0.info()"
   ]
  },
  {
   "cell_type": "markdown",
   "metadata": {
    "tags": []
   },
   "source": [
    "##### 2. 마이너스 세일즈, 수량 고객 제외할것 >> 리턴 구매내역을 삭제하여 없을 것임"
   ]
  },
  {
   "cell_type": "code",
   "execution_count": null,
   "metadata": {},
   "outputs": [],
   "source": [
    "df0.groupby(['COSMO ID', 'Last and First Name (Local)', 'Birthdate Year', 'First Purchase Date']).agg({'UNIT SOLD': 'sum', 'MAT_Material(key)': 'nunique', 'NET VALUE': 'sum'})\\\n",
    ".sort_values('NET VALUE', ascending=True).reset_index()"
   ]
  },
  {
   "cell_type": "markdown",
   "metadata": {
    "tags": []
   },
   "source": [
    "#### 1-3) 제품 database합치기(**df:sales_transaction_basket_cosmo.xlsx**)"
   ]
  },
  {
   "cell_type": "code",
   "execution_count": 78,
   "metadata": {},
   "outputs": [
    {
     "name": "stdout",
     "output_type": "stream",
     "text": [
      "Wall time: 30.5 s\n"
     ]
    },
    {
     "data": {
      "text/plain": [
       "12869"
      ]
     },
     "execution_count": 78,
     "metadata": {},
     "output_type": "execute_result"
    }
   ],
   "source": [
    "%%time\n",
    "# 제품 속성 합칠 것\n",
    "df6 = pd.read_excel('DOS_Sales_2021.11.17.xlsx', sheet_name='ACT')\n",
    "df6.drop_duplicates(subset=['Sap Code'], keep='last', inplace=True, ignore_index=True)\n",
    "len(df6)"
   ]
  },
  {
   "cell_type": "code",
   "execution_count": null,
   "metadata": {
    "tags": []
   },
   "outputs": [],
   "source": [
    "df6 = df6.iloc[:, 1:-1] #제품속성만 남김\n",
    "df6.rename(columns={'Sap Code':'MAT_Material(key)', 'Gender':'MAT_Gender'}, inplace=True)\n",
    "df0 = pd.merge(df0, df6, how='left', on='MAT_Material(key)') # 제품속성 병합\n",
    "df0.info()"
   ]
  },
  {
   "cell_type": "code",
   "execution_count": null,
   "metadata": {
    "tags": []
   },
   "outputs": [],
   "source": [
    "df0 = df0[~df0['Short Description'].isnull()] #제품 맵핑 안된것 확인후 지우기\n",
    "df0.reset_index(drop=True, inplace=True)\n",
    "df0.info()"
   ]
  },
  {
   "cell_type": "code",
   "execution_count": 81,
   "metadata": {
    "tags": []
   },
   "outputs": [
    {
     "name": "stdout",
     "output_type": "stream",
     "text": [
      "<class 'pandas.core.frame.DataFrame'>\n",
      "RangeIndex: 32 entries, 0 to 31\n",
      "Data columns (total 6 columns):\n",
      " #   Column                  Non-Null Count  Dtype \n",
      "---  ------                  --------------  ----- \n",
      " 0   MAT_SBU                 32 non-null     object\n",
      " 1   MAT_Business Code(key)  32 non-null     object\n",
      " 2   MAT_Business Code       32 non-null     object\n",
      " 3   SBU                     32 non-null     object\n",
      " 4   JWA                     32 non-null     object\n",
      " 5   MAT_Business Code(num)  32 non-null     int64 \n",
      "dtypes: int64(1), object(5)\n",
      "memory usage: 1.6+ KB\n",
      "Wall time: 13.1 s\n"
     ]
    }
   ],
   "source": [
    "%%time\n",
    "# 제품 카테고리와(SBU) 합칠 것\n",
    "df9 = pd.read_excel('DOS_Sales_2021.11.17.xlsx', sheet_name='SBU')\n",
    "df9.info()"
   ]
  },
  {
   "cell_type": "code",
   "execution_count": null,
   "metadata": {
    "tags": []
   },
   "outputs": [],
   "source": [
    "df9 = df9[['MAT_SBU', 'MAT_Business Code(key)', 'SBU', 'JWA']]\n",
    "df0 = pd.merge(df0, df9, how='left', on='MAT_Business Code(key)') # SBU 병합\n",
    "df0.info()"
   ]
  },
  {
   "cell_type": "code",
   "execution_count": 83,
   "metadata": {},
   "outputs": [
    {
     "name": "stdout",
     "output_type": "stream",
     "text": [
      "Wall time: 2min 25s\n"
     ]
    }
   ],
   "source": [
    "%%time\n",
    "df0.to_excel('sales_transaction_basket_cosmo.xlsx', index=False)"
   ]
  }
 ],
 "metadata": {
  "kernelspec": {
   "display_name": "Python 3",
   "language": "python",
   "name": "python3"
  },
  "language_info": {
   "codemirror_mode": {
    "name": "ipython",
    "version": 3
   },
   "file_extension": ".py",
   "mimetype": "text/x-python",
   "name": "python",
   "nbconvert_exporter": "python",
   "pygments_lexer": "ipython3",
   "version": "3.7.6"
  }
 },
 "nbformat": 4,
 "nbformat_minor": 4
}
